{
  "nbformat": 4,
  "nbformat_minor": 0,
  "metadata": {
    "colab": {
      "provenance": []
    },
    "kernelspec": {
      "name": "python3",
      "display_name": "Python 3"
    },
    "language_info": {
      "name": "python"
    }
  },
  "cells": [
    {
      "cell_type": "code",
      "execution_count": 46,
      "metadata": {
        "id": "WdSv0tApfSob"
      },
      "outputs": [],
      "source": [
        "import pandas as pd\n",
        "import numpy as np"
      ]
    },
    {
      "cell_type": "code",
      "source": [
        "df=pd.read_csv('AAPL.csv')"
      ],
      "metadata": {
        "id": "3j3wAl_VfaW6"
      },
      "execution_count": 7,
      "outputs": []
    },
    {
      "cell_type": "code",
      "source": [
        "df.head()"
      ],
      "metadata": {
        "colab": {
          "base_uri": "https://localhost:8080/",
          "height": 330
        },
        "id": "temJ_LGBfkIT",
        "outputId": "864f18d1-06f7-4e2a-8b61-1566c04237f4"
      },
      "execution_count": 8,
      "outputs": [
        {
          "output_type": "execute_result",
          "data": {
            "text/plain": [
              "   Unnamed: 0 symbol                       date    close     high     low  \\\n",
              "0           0   AAPL  2015-05-27 00:00:00+00:00  132.045  132.260  130.05   \n",
              "1           1   AAPL  2015-05-28 00:00:00+00:00  131.780  131.950  131.10   \n",
              "2           2   AAPL  2015-05-29 00:00:00+00:00  130.280  131.450  129.90   \n",
              "3           3   AAPL  2015-06-01 00:00:00+00:00  130.535  131.390  130.05   \n",
              "4           4   AAPL  2015-06-02 00:00:00+00:00  129.960  130.655  129.32   \n",
              "\n",
              "     open    volume    adjClose     adjHigh      adjLow     adjOpen  \\\n",
              "0  130.34  45833246  121.682558  121.880685  119.844118  120.111360   \n",
              "1  131.86  30733309  121.438354  121.595013  120.811718  121.512076   \n",
              "2  131.23  50884452  120.056069  121.134251  119.705890  120.931516   \n",
              "3  131.20  32112797  120.291057  121.078960  119.844118  120.903870   \n",
              "4  129.86  33667627  119.761181  120.401640  119.171406  119.669029   \n",
              "\n",
              "   adjVolume  divCash  splitFactor  \n",
              "0   45833246      0.0          1.0  \n",
              "1   30733309      0.0          1.0  \n",
              "2   50884452      0.0          1.0  \n",
              "3   32112797      0.0          1.0  \n",
              "4   33667627      0.0          1.0  "
            ],
            "text/html": [
              "\n",
              "  <div id=\"df-95ea3679-cf54-43f3-aa3c-d89405f44ebd\" class=\"colab-df-container\">\n",
              "    <div>\n",
              "<style scoped>\n",
              "    .dataframe tbody tr th:only-of-type {\n",
              "        vertical-align: middle;\n",
              "    }\n",
              "\n",
              "    .dataframe tbody tr th {\n",
              "        vertical-align: top;\n",
              "    }\n",
              "\n",
              "    .dataframe thead th {\n",
              "        text-align: right;\n",
              "    }\n",
              "</style>\n",
              "<table border=\"1\" class=\"dataframe\">\n",
              "  <thead>\n",
              "    <tr style=\"text-align: right;\">\n",
              "      <th></th>\n",
              "      <th>Unnamed: 0</th>\n",
              "      <th>symbol</th>\n",
              "      <th>date</th>\n",
              "      <th>close</th>\n",
              "      <th>high</th>\n",
              "      <th>low</th>\n",
              "      <th>open</th>\n",
              "      <th>volume</th>\n",
              "      <th>adjClose</th>\n",
              "      <th>adjHigh</th>\n",
              "      <th>adjLow</th>\n",
              "      <th>adjOpen</th>\n",
              "      <th>adjVolume</th>\n",
              "      <th>divCash</th>\n",
              "      <th>splitFactor</th>\n",
              "    </tr>\n",
              "  </thead>\n",
              "  <tbody>\n",
              "    <tr>\n",
              "      <th>0</th>\n",
              "      <td>0</td>\n",
              "      <td>AAPL</td>\n",
              "      <td>2015-05-27 00:00:00+00:00</td>\n",
              "      <td>132.045</td>\n",
              "      <td>132.260</td>\n",
              "      <td>130.05</td>\n",
              "      <td>130.34</td>\n",
              "      <td>45833246</td>\n",
              "      <td>121.682558</td>\n",
              "      <td>121.880685</td>\n",
              "      <td>119.844118</td>\n",
              "      <td>120.111360</td>\n",
              "      <td>45833246</td>\n",
              "      <td>0.0</td>\n",
              "      <td>1.0</td>\n",
              "    </tr>\n",
              "    <tr>\n",
              "      <th>1</th>\n",
              "      <td>1</td>\n",
              "      <td>AAPL</td>\n",
              "      <td>2015-05-28 00:00:00+00:00</td>\n",
              "      <td>131.780</td>\n",
              "      <td>131.950</td>\n",
              "      <td>131.10</td>\n",
              "      <td>131.86</td>\n",
              "      <td>30733309</td>\n",
              "      <td>121.438354</td>\n",
              "      <td>121.595013</td>\n",
              "      <td>120.811718</td>\n",
              "      <td>121.512076</td>\n",
              "      <td>30733309</td>\n",
              "      <td>0.0</td>\n",
              "      <td>1.0</td>\n",
              "    </tr>\n",
              "    <tr>\n",
              "      <th>2</th>\n",
              "      <td>2</td>\n",
              "      <td>AAPL</td>\n",
              "      <td>2015-05-29 00:00:00+00:00</td>\n",
              "      <td>130.280</td>\n",
              "      <td>131.450</td>\n",
              "      <td>129.90</td>\n",
              "      <td>131.23</td>\n",
              "      <td>50884452</td>\n",
              "      <td>120.056069</td>\n",
              "      <td>121.134251</td>\n",
              "      <td>119.705890</td>\n",
              "      <td>120.931516</td>\n",
              "      <td>50884452</td>\n",
              "      <td>0.0</td>\n",
              "      <td>1.0</td>\n",
              "    </tr>\n",
              "    <tr>\n",
              "      <th>3</th>\n",
              "      <td>3</td>\n",
              "      <td>AAPL</td>\n",
              "      <td>2015-06-01 00:00:00+00:00</td>\n",
              "      <td>130.535</td>\n",
              "      <td>131.390</td>\n",
              "      <td>130.05</td>\n",
              "      <td>131.20</td>\n",
              "      <td>32112797</td>\n",
              "      <td>120.291057</td>\n",
              "      <td>121.078960</td>\n",
              "      <td>119.844118</td>\n",
              "      <td>120.903870</td>\n",
              "      <td>32112797</td>\n",
              "      <td>0.0</td>\n",
              "      <td>1.0</td>\n",
              "    </tr>\n",
              "    <tr>\n",
              "      <th>4</th>\n",
              "      <td>4</td>\n",
              "      <td>AAPL</td>\n",
              "      <td>2015-06-02 00:00:00+00:00</td>\n",
              "      <td>129.960</td>\n",
              "      <td>130.655</td>\n",
              "      <td>129.32</td>\n",
              "      <td>129.86</td>\n",
              "      <td>33667627</td>\n",
              "      <td>119.761181</td>\n",
              "      <td>120.401640</td>\n",
              "      <td>119.171406</td>\n",
              "      <td>119.669029</td>\n",
              "      <td>33667627</td>\n",
              "      <td>0.0</td>\n",
              "      <td>1.0</td>\n",
              "    </tr>\n",
              "  </tbody>\n",
              "</table>\n",
              "</div>\n",
              "    <div class=\"colab-df-buttons\">\n",
              "\n",
              "  <div class=\"colab-df-container\">\n",
              "    <button class=\"colab-df-convert\" onclick=\"convertToInteractive('df-95ea3679-cf54-43f3-aa3c-d89405f44ebd')\"\n",
              "            title=\"Convert this dataframe to an interactive table.\"\n",
              "            style=\"display:none;\">\n",
              "\n",
              "  <svg xmlns=\"http://www.w3.org/2000/svg\" height=\"24px\" viewBox=\"0 -960 960 960\">\n",
              "    <path d=\"M120-120v-720h720v720H120Zm60-500h600v-160H180v160Zm220 220h160v-160H400v160Zm0 220h160v-160H400v160ZM180-400h160v-160H180v160Zm440 0h160v-160H620v160ZM180-180h160v-160H180v160Zm440 0h160v-160H620v160Z\"/>\n",
              "  </svg>\n",
              "    </button>\n",
              "\n",
              "  <style>\n",
              "    .colab-df-container {\n",
              "      display:flex;\n",
              "      gap: 12px;\n",
              "    }\n",
              "\n",
              "    .colab-df-convert {\n",
              "      background-color: #E8F0FE;\n",
              "      border: none;\n",
              "      border-radius: 50%;\n",
              "      cursor: pointer;\n",
              "      display: none;\n",
              "      fill: #1967D2;\n",
              "      height: 32px;\n",
              "      padding: 0 0 0 0;\n",
              "      width: 32px;\n",
              "    }\n",
              "\n",
              "    .colab-df-convert:hover {\n",
              "      background-color: #E2EBFA;\n",
              "      box-shadow: 0px 1px 2px rgba(60, 64, 67, 0.3), 0px 1px 3px 1px rgba(60, 64, 67, 0.15);\n",
              "      fill: #174EA6;\n",
              "    }\n",
              "\n",
              "    .colab-df-buttons div {\n",
              "      margin-bottom: 4px;\n",
              "    }\n",
              "\n",
              "    [theme=dark] .colab-df-convert {\n",
              "      background-color: #3B4455;\n",
              "      fill: #D2E3FC;\n",
              "    }\n",
              "\n",
              "    [theme=dark] .colab-df-convert:hover {\n",
              "      background-color: #434B5C;\n",
              "      box-shadow: 0px 1px 3px 1px rgba(0, 0, 0, 0.15);\n",
              "      filter: drop-shadow(0px 1px 2px rgba(0, 0, 0, 0.3));\n",
              "      fill: #FFFFFF;\n",
              "    }\n",
              "  </style>\n",
              "\n",
              "    <script>\n",
              "      const buttonEl =\n",
              "        document.querySelector('#df-95ea3679-cf54-43f3-aa3c-d89405f44ebd button.colab-df-convert');\n",
              "      buttonEl.style.display =\n",
              "        google.colab.kernel.accessAllowed ? 'block' : 'none';\n",
              "\n",
              "      async function convertToInteractive(key) {\n",
              "        const element = document.querySelector('#df-95ea3679-cf54-43f3-aa3c-d89405f44ebd');\n",
              "        const dataTable =\n",
              "          await google.colab.kernel.invokeFunction('convertToInteractive',\n",
              "                                                    [key], {});\n",
              "        if (!dataTable) return;\n",
              "\n",
              "        const docLinkHtml = 'Like what you see? Visit the ' +\n",
              "          '<a target=\"_blank\" href=https://colab.research.google.com/notebooks/data_table.ipynb>data table notebook</a>'\n",
              "          + ' to learn more about interactive tables.';\n",
              "        element.innerHTML = '';\n",
              "        dataTable['output_type'] = 'display_data';\n",
              "        await google.colab.output.renderOutput(dataTable, element);\n",
              "        const docLink = document.createElement('div');\n",
              "        docLink.innerHTML = docLinkHtml;\n",
              "        element.appendChild(docLink);\n",
              "      }\n",
              "    </script>\n",
              "  </div>\n",
              "\n",
              "\n",
              "<div id=\"df-88273f6e-9673-4fcd-9e6c-d1457a169b11\">\n",
              "  <button class=\"colab-df-quickchart\" onclick=\"quickchart('df-88273f6e-9673-4fcd-9e6c-d1457a169b11')\"\n",
              "            title=\"Suggest charts\"\n",
              "            style=\"display:none;\">\n",
              "\n",
              "<svg xmlns=\"http://www.w3.org/2000/svg\" height=\"24px\"viewBox=\"0 0 24 24\"\n",
              "     width=\"24px\">\n",
              "    <g>\n",
              "        <path d=\"M19 3H5c-1.1 0-2 .9-2 2v14c0 1.1.9 2 2 2h14c1.1 0 2-.9 2-2V5c0-1.1-.9-2-2-2zM9 17H7v-7h2v7zm4 0h-2V7h2v10zm4 0h-2v-4h2v4z\"/>\n",
              "    </g>\n",
              "</svg>\n",
              "  </button>\n",
              "\n",
              "<style>\n",
              "  .colab-df-quickchart {\n",
              "      --bg-color: #E8F0FE;\n",
              "      --fill-color: #1967D2;\n",
              "      --hover-bg-color: #E2EBFA;\n",
              "      --hover-fill-color: #174EA6;\n",
              "      --disabled-fill-color: #AAA;\n",
              "      --disabled-bg-color: #DDD;\n",
              "  }\n",
              "\n",
              "  [theme=dark] .colab-df-quickchart {\n",
              "      --bg-color: #3B4455;\n",
              "      --fill-color: #D2E3FC;\n",
              "      --hover-bg-color: #434B5C;\n",
              "      --hover-fill-color: #FFFFFF;\n",
              "      --disabled-bg-color: #3B4455;\n",
              "      --disabled-fill-color: #666;\n",
              "  }\n",
              "\n",
              "  .colab-df-quickchart {\n",
              "    background-color: var(--bg-color);\n",
              "    border: none;\n",
              "    border-radius: 50%;\n",
              "    cursor: pointer;\n",
              "    display: none;\n",
              "    fill: var(--fill-color);\n",
              "    height: 32px;\n",
              "    padding: 0;\n",
              "    width: 32px;\n",
              "  }\n",
              "\n",
              "  .colab-df-quickchart:hover {\n",
              "    background-color: var(--hover-bg-color);\n",
              "    box-shadow: 0 1px 2px rgba(60, 64, 67, 0.3), 0 1px 3px 1px rgba(60, 64, 67, 0.15);\n",
              "    fill: var(--button-hover-fill-color);\n",
              "  }\n",
              "\n",
              "  .colab-df-quickchart-complete:disabled,\n",
              "  .colab-df-quickchart-complete:disabled:hover {\n",
              "    background-color: var(--disabled-bg-color);\n",
              "    fill: var(--disabled-fill-color);\n",
              "    box-shadow: none;\n",
              "  }\n",
              "\n",
              "  .colab-df-spinner {\n",
              "    border: 2px solid var(--fill-color);\n",
              "    border-color: transparent;\n",
              "    border-bottom-color: var(--fill-color);\n",
              "    animation:\n",
              "      spin 1s steps(1) infinite;\n",
              "  }\n",
              "\n",
              "  @keyframes spin {\n",
              "    0% {\n",
              "      border-color: transparent;\n",
              "      border-bottom-color: var(--fill-color);\n",
              "      border-left-color: var(--fill-color);\n",
              "    }\n",
              "    20% {\n",
              "      border-color: transparent;\n",
              "      border-left-color: var(--fill-color);\n",
              "      border-top-color: var(--fill-color);\n",
              "    }\n",
              "    30% {\n",
              "      border-color: transparent;\n",
              "      border-left-color: var(--fill-color);\n",
              "      border-top-color: var(--fill-color);\n",
              "      border-right-color: var(--fill-color);\n",
              "    }\n",
              "    40% {\n",
              "      border-color: transparent;\n",
              "      border-right-color: var(--fill-color);\n",
              "      border-top-color: var(--fill-color);\n",
              "    }\n",
              "    60% {\n",
              "      border-color: transparent;\n",
              "      border-right-color: var(--fill-color);\n",
              "    }\n",
              "    80% {\n",
              "      border-color: transparent;\n",
              "      border-right-color: var(--fill-color);\n",
              "      border-bottom-color: var(--fill-color);\n",
              "    }\n",
              "    90% {\n",
              "      border-color: transparent;\n",
              "      border-bottom-color: var(--fill-color);\n",
              "    }\n",
              "  }\n",
              "</style>\n",
              "\n",
              "  <script>\n",
              "    async function quickchart(key) {\n",
              "      const quickchartButtonEl =\n",
              "        document.querySelector('#' + key + ' button');\n",
              "      quickchartButtonEl.disabled = true;  // To prevent multiple clicks.\n",
              "      quickchartButtonEl.classList.add('colab-df-spinner');\n",
              "      try {\n",
              "        const charts = await google.colab.kernel.invokeFunction(\n",
              "            'suggestCharts', [key], {});\n",
              "      } catch (error) {\n",
              "        console.error('Error during call to suggestCharts:', error);\n",
              "      }\n",
              "      quickchartButtonEl.classList.remove('colab-df-spinner');\n",
              "      quickchartButtonEl.classList.add('colab-df-quickchart-complete');\n",
              "    }\n",
              "    (() => {\n",
              "      let quickchartButtonEl =\n",
              "        document.querySelector('#df-88273f6e-9673-4fcd-9e6c-d1457a169b11 button');\n",
              "      quickchartButtonEl.style.display =\n",
              "        google.colab.kernel.accessAllowed ? 'block' : 'none';\n",
              "    })();\n",
              "  </script>\n",
              "</div>\n",
              "\n",
              "    </div>\n",
              "  </div>\n"
            ],
            "application/vnd.google.colaboratory.intrinsic+json": {
              "type": "dataframe",
              "variable_name": "df",
              "summary": "{\n  \"name\": \"df\",\n  \"rows\": 1258,\n  \"fields\": [\n    {\n      \"column\": \"Unnamed: 0\",\n      \"properties\": {\n        \"dtype\": \"number\",\n        \"std\": 363,\n        \"min\": 0,\n        \"max\": 1257,\n        \"num_unique_values\": 1258,\n        \"samples\": [\n          561,\n          101,\n          51\n        ],\n        \"semantic_type\": \"\",\n        \"description\": \"\"\n      }\n    },\n    {\n      \"column\": \"symbol\",\n      \"properties\": {\n        \"dtype\": \"category\",\n        \"num_unique_values\": 1,\n        \"samples\": [\n          \"AAPL\"\n        ],\n        \"semantic_type\": \"\",\n        \"description\": \"\"\n      }\n    },\n    {\n      \"column\": \"date\",\n      \"properties\": {\n        \"dtype\": \"object\",\n        \"num_unique_values\": 1258,\n        \"samples\": [\n          \"2017-08-16 00:00:00+00:00\"\n        ],\n        \"semantic_type\": \"\",\n        \"description\": \"\"\n      }\n    },\n    {\n      \"column\": \"close\",\n      \"properties\": {\n        \"dtype\": \"number\",\n        \"std\": 56.85079637576302,\n        \"min\": 90.34,\n        \"max\": 327.2,\n        \"num_unique_values\": 1201,\n        \"samples\": [\n          97.9\n        ],\n        \"semantic_type\": \"\",\n        \"description\": \"\"\n      }\n    },\n    {\n      \"column\": \"high\",\n      \"properties\": {\n        \"dtype\": \"number\",\n        \"std\": 57.500128210420044,\n        \"min\": 91.67,\n        \"max\": 327.85,\n        \"num_unique_values\": 1196,\n        \"samples\": [\n          177.78\n        ],\n        \"semantic_type\": \"\",\n        \"description\": \"\"\n      }\n    },\n    {\n      \"column\": \"low\",\n      \"properties\": {\n        \"dtype\": \"number\",\n        \"std\": 56.0067733750934,\n        \"min\": 89.47,\n        \"max\": 323.35,\n        \"num_unique_values\": 1209,\n        \"samples\": [\n          113.7\n        ],\n        \"semantic_type\": \"\",\n        \"description\": \"\"\n      }\n    },\n    {\n      \"column\": \"open\",\n      \"properties\": {\n        \"dtype\": \"number\",\n        \"std\": 56.612706510014405,\n        \"min\": 90.0,\n        \"max\": 324.73,\n        \"num_unique_values\": 1205,\n        \"samples\": [\n          114.0\n        ],\n        \"semantic_type\": \"\",\n        \"description\": \"\"\n      }\n    },\n    {\n      \"column\": \"volume\",\n      \"properties\": {\n        \"dtype\": \"number\",\n        \"std\": 17290996,\n        \"min\": 11362045,\n        \"max\": 162206292,\n        \"num_unique_values\": 1258,\n        \"samples\": [\n          27321761\n        ],\n        \"semantic_type\": \"\",\n        \"description\": \"\"\n      }\n    },\n    {\n      \"column\": \"adjClose\",\n      \"properties\": {\n        \"dtype\": \"number\",\n        \"std\": 58.73382042107333,\n        \"min\": 84.9543507876,\n        \"max\": 326.3371474514,\n        \"num_unique_values\": 1240,\n        \"samples\": [\n          115.3255043138\n        ],\n        \"semantic_type\": \"\",\n        \"description\": \"\"\n      }\n    },\n    {\n      \"column\": \"adjHigh\",\n      \"properties\": {\n        \"dtype\": \"number\",\n        \"std\": 59.4028420444512,\n        \"min\": 86.2050623943,\n        \"max\": 326.3570947098,\n        \"num_unique_values\": 1237,\n        \"samples\": [\n          167.7436178294\n        ],\n        \"semantic_type\": \"\",\n        \"description\": \"\"\n      }\n    },\n    {\n      \"column\": \"adjLow\",\n      \"properties\": {\n        \"dtype\": \"number\",\n        \"std\": 57.86924613698459,\n        \"min\": 84.13621612760001,\n        \"max\": 322.497300209,\n        \"num_unique_values\": 1238,\n        \"samples\": [\n          164.4602079237\n        ],\n        \"semantic_type\": \"\",\n        \"description\": \"\"\n      }\n    },\n    {\n      \"column\": \"adjOpen\",\n      \"properties\": {\n        \"dtype\": \"number\",\n        \"std\": 58.494560063550416,\n        \"min\": 84.6346200009,\n        \"max\": 323.87366103880004,\n        \"num_unique_values\": 1237,\n        \"samples\": [\n          165.310031664\n        ],\n        \"semantic_type\": \"\",\n        \"description\": \"\"\n      }\n    },\n    {\n      \"column\": \"adjVolume\",\n      \"properties\": {\n        \"dtype\": \"number\",\n        \"std\": 17290996,\n        \"min\": 11362045,\n        \"max\": 162206292,\n        \"num_unique_values\": 1258,\n        \"samples\": [\n          27321761\n        ],\n        \"semantic_type\": \"\",\n        \"description\": \"\"\n      }\n    },\n    {\n      \"column\": \"divCash\",\n      \"properties\": {\n        \"dtype\": \"number\",\n        \"std\": 0.08336553314965248,\n        \"min\": 0.0,\n        \"max\": 0.82,\n        \"num_unique_values\": 7,\n        \"samples\": [\n          0.0\n        ],\n        \"semantic_type\": \"\",\n        \"description\": \"\"\n      }\n    },\n    {\n      \"column\": \"splitFactor\",\n      \"properties\": {\n        \"dtype\": \"number\",\n        \"std\": 0.0,\n        \"min\": 1.0,\n        \"max\": 1.0,\n        \"num_unique_values\": 1,\n        \"samples\": [\n          1.0\n        ],\n        \"semantic_type\": \"\",\n        \"description\": \"\"\n      }\n    }\n  ]\n}"
            }
          },
          "metadata": {},
          "execution_count": 8
        }
      ]
    },
    {
      "cell_type": "code",
      "source": [
        "df2=df.reset_index()['close']"
      ],
      "metadata": {
        "id": "10faoyVsf21S"
      },
      "execution_count": 10,
      "outputs": []
    },
    {
      "cell_type": "code",
      "source": [
        "import matplotlib.pyplot as plt\n",
        "plt.plot(df2)"
      ],
      "metadata": {
        "colab": {
          "base_uri": "https://localhost:8080/",
          "height": 447
        },
        "id": "aqJm7kIHgYJF",
        "outputId": "01588ed0-d625-4030-ce9a-516bd1958f54"
      },
      "execution_count": 12,
      "outputs": [
        {
          "output_type": "execute_result",
          "data": {
            "text/plain": [
              "[<matplotlib.lines.Line2D at 0x7abdec436380>]"
            ]
          },
          "metadata": {},
          "execution_count": 12
        },
        {
          "output_type": "display_data",
          "data": {
            "text/plain": [
              "<Figure size 640x480 with 1 Axes>"
            ],
            "image/png": "[encoded data removed]"
          },
          "metadata": {}
        }
      ]
    },
    {
      "cell_type": "code",
      "source": [
        "import numpy as np\n",
        "from sklearn.preprocessing import MinMaxScaler  # Corrected the class name\n",
        "scaler = MinMaxScaler(feature_range=(0, 1))\n",
        "\n",
        "df2 = scaler.fit_transform(np.array(df2).reshape(-1, 1))\n",
        "\n",
        "df2 = pd.DataFrame(df2, columns=['Scaled Values'])\n",
        "print(df2.head())\n"
      ],
      "metadata": {
        "colab": {
          "base_uri": "https://localhost:8080/"
        },
        "id": "7UkkzLS1gbuh",
        "outputId": "9519212e-cd1b-4d47-d67a-4a8df07bac49"
      },
      "execution_count": 16,
      "outputs": [
        {
          "output_type": "stream",
          "name": "stdout",
          "text": [
            "   Scaled Values\n",
            "0       0.176074\n",
            "1       0.174956\n",
            "2       0.168623\n",
            "3       0.169699\n",
            "4       0.167272\n"
          ]
        }
      ]
    },
    {
      "cell_type": "code",
      "source": [
        "train_size=int(len(df2)*0.70)\n",
        "test_size=len(df2)-train_size\n",
        "train_data,test_data=df2[0:train_size],df2[train_size:len(df2)] # Removed the extra ,:1 which was causing the error as df2 is now a single column DataFrame"
      ],
      "metadata": {
        "id": "x7kRCjaHgvcC"
      },
      "execution_count": 19,
      "outputs": []
    },
    {
      "cell_type": "code",
      "source": [
        "def database(dataset, timestep=1):\n",
        "    dataX, dataY = [], []\n",
        "    for i in range(len(dataset) - timestep - 1):\n",
        "        a = dataset.iloc[i:(i + timestep), 0]  # Use iloc for pandas DataFrame\n",
        "        dataX.append(a.values)  # Convert to NumPy array\n",
        "        dataY.append(dataset.iloc[i + timestep, 0])\n",
        "    return np.array(dataX), np.array(dataY)\n"
      ],
      "metadata": {
        "id": "zw1BOdLChho0"
      },
      "execution_count": 29,
      "outputs": []
    },
    {
      "cell_type": "code",
      "source": [
        "timestep=100\n",
        "x_train,y_train=database(train_data,timestep)\n",
        "x_test,y_test=database(test_data,timestep)"
      ],
      "metadata": {
        "id": "mZdQqtwFiDZ9"
      },
      "execution_count": 30,
      "outputs": []
    },
    {
      "cell_type": "code",
      "source": [
        "print(x_train)"
      ],
      "metadata": {
        "colab": {
          "base_uri": "https://localhost:8080/"
        },
        "id": "s3THlUaOiSC_",
        "outputId": "e6c4bc58-ee49-49b2-c7b2-912835c8f1ec"
      },
      "execution_count": 31,
      "outputs": [
        {
          "output_type": "stream",
          "name": "stdout",
          "text": [
            "[[0.17607447 0.17495567 0.16862282 ... 0.09055982 0.08388922 0.09085536]\n",
            " [0.17495567 0.16862282 0.1696994  ... 0.08388922 0.09085536 0.0873934 ]\n",
            " [0.16862282 0.1696994  0.16727181 ... 0.09085536 0.0873934  0.09030651]\n",
            " ...\n",
            " [0.38769737 0.39723888 0.39609896 ... 0.48184582 0.43836021 0.43016972]\n",
            " [0.39723888 0.39609896 0.40175631 ... 0.43836021 0.43016972 0.40724479]\n",
            " [0.39609896 0.40175631 0.40010977 ... 0.43016972 0.40724479 0.42670776]]\n"
          ]
        }
      ]
    },
    {
      "cell_type": "code",
      "source": [
        "x_train=x_train.reshape(x_train.shape[0],x_train.shape[1],1)\n",
        "x_test=x_test.reshape(x_test.shape[0],x_test.shape[1],1)"
      ],
      "metadata": {
        "id": "tgc37YjjjagU"
      },
      "execution_count": 33,
      "outputs": []
    },
    {
      "cell_type": "code",
      "source": [
        "from tensorflow.keras.models import Sequential\n",
        "from tensorflow.keras.layers import Dense,LSTM"
      ],
      "metadata": {
        "id": "mgYTi-EGjc3R"
      },
      "execution_count": 35,
      "outputs": []
    },
    {
      "cell_type": "code",
      "source": [
        "model=Sequential()\n",
        "model.add(LSTM(50,return_sequences=True,input_shape=(100,1)))\n",
        "model.add(LSTM(50,return_sequences=True))\n",
        "model.add(LSTM(50))\n",
        "model.add(Dense(1))\n",
        "model.compile(loss='mean_squared_error',optimizer='adam')"
      ],
      "metadata": {
        "colab": {
          "base_uri": "https://localhost:8080/"
        },
        "id": "4atzaa8Rjwne",
        "outputId": "c1a10b41-de2e-428e-9b3c-748c1e87046a"
      },
      "execution_count": 38,
      "outputs": [
        {
          "output_type": "stream",
          "name": "stderr",
          "text": [
            "/usr/local/lib/python3.10/dist-packages/keras/src/layers/rnn/rnn.py:204: UserWarning: Do not pass an `input_shape`/`input_dim` argument to a layer. When using Sequential models, prefer using an `Input(shape)` object as the first layer in the model instead.\n",
            "  super().__init__(**kwargs)\n"
          ]
        }
      ]
    },
    {
      "cell_type": "code",
      "source": [
        "model.summary()"
      ],
      "metadata": {
        "colab": {
          "base_uri": "https://localhost:8080/",
          "height": 268
        },
        "id": "wNfN9dAJkC-_",
        "outputId": "a1d4d1ce-2f0a-4110-ae4e-0d1a0b129852"
      },
      "execution_count": 37,
      "outputs": [
        {
          "output_type": "display_data",
          "data": {
            "text/plain": [
              "\u001b[1mModel: \"sequential\"\u001b[0m\n"
            ],
            "text/html": [
              "<pre style=\"white-space:pre;overflow-x:auto;line-height:normal;font-family:Menlo,'DejaVu Sans Mono',consolas,'Courier New',monospace\"><span style=\"font-weight: bold\">Model: \"sequential\"</span>\n",
              "</pre>\n"
            ]
          },
          "metadata": {}
        },
        {
          "output_type": "display_data",
          "data": {
            "text/plain": [
              "┏━━━━━━━━━━━━━━━━━━━━━━━━━━━━━━━━━━━━━━┳━━━━━━━━━━━━━━━━━━━━━━━━━━━━━┳━━━━━━━━━━━━━━━━━┓\n",
              "┃\u001b[1m \u001b[0m\u001b[1mLayer (type)                        \u001b[0m\u001b[1m \u001b[0m┃\u001b[1m \u001b[0m\u001b[1mOutput Shape               \u001b[0m\u001b[1m \u001b[0m┃\u001b[1m \u001b[0m\u001b[1m        Param #\u001b[0m\u001b[1m \u001b[0m┃\n",
              "┡━━━━━━━━━━━━━━━━━━━━━━━━━━━━━━━━━━━━━━╇━━━━━━━━━━━━━━━━━━━━━━━━━━━━━╇━━━━━━━━━━━━━━━━━┩\n",
              "│ lstm (\u001b[38;5;33mLSTM\u001b[0m)                          │ (\u001b[38;5;45mNone\u001b[0m, \u001b[38;5;34m100\u001b[0m, \u001b[38;5;34m50\u001b[0m)             │          \u001b[38;5;34m10,400\u001b[0m │\n",
              "├──────────────────────────────────────┼─────────────────────────────┼─────────────────┤\n",
              "│ lstm_1 (\u001b[38;5;33mLSTM\u001b[0m)                        │ (\u001b[38;5;45mNone\u001b[0m, \u001b[38;5;34m100\u001b[0m, \u001b[38;5;34m50\u001b[0m)             │          \u001b[38;5;34m20,200\u001b[0m │\n",
              "├──────────────────────────────────────┼─────────────────────────────┼─────────────────┤\n",
              "│ lstm_2 (\u001b[38;5;33mLSTM\u001b[0m)                        │ (\u001b[38;5;45mNone\u001b[0m, \u001b[38;5;34m50\u001b[0m)                  │          \u001b[38;5;34m20,200\u001b[0m │\n",
              "├──────────────────────────────────────┼─────────────────────────────┼─────────────────┤\n",
              "│ dense (\u001b[38;5;33mDense\u001b[0m)                        │ (\u001b[38;5;45mNone\u001b[0m, \u001b[38;5;34m1\u001b[0m)                   │              \u001b[38;5;34m51\u001b[0m │\n",
              "└──────────────────────────────────────┴─────────────────────────────┴─────────────────┘\n"
            ],
            "text/html": [
              "<pre style=\"white-space:pre;overflow-x:auto;line-height:normal;font-family:Menlo,'DejaVu Sans Mono',consolas,'Courier New',monospace\">┏━━━━━━━━━━━━━━━━━━━━━━━━━━━━━━━━━━━━━━┳━━━━━━━━━━━━━━━━━━━━━━━━━━━━━┳━━━━━━━━━━━━━━━━━┓\n",
              "┃<span style=\"font-weight: bold\"> Layer (type)                         </span>┃<span style=\"font-weight: bold\"> Output Shape                </span>┃<span style=\"font-weight: bold\">         Param # </span>┃\n",
              "┡━━━━━━━━━━━━━━━━━━━━━━━━━━━━━━━━━━━━━━╇━━━━━━━━━━━━━━━━━━━━━━━━━━━━━╇━━━━━━━━━━━━━━━━━┩\n",
              "│ lstm (<span style=\"color: #0087ff; text-decoration-color: #0087ff\">LSTM</span>)                          │ (<span style=\"color: #00d7ff; text-decoration-color: #00d7ff\">None</span>, <span style=\"color: #00af00; text-decoration-color: #00af00\">100</span>, <span style=\"color: #00af00; text-decoration-color: #00af00\">50</span>)             │          <span style=\"color: #00af00; text-decoration-color: #00af00\">10,400</span> │\n",
              "├──────────────────────────────────────┼─────────────────────────────┼─────────────────┤\n",
              "│ lstm_1 (<span style=\"color: #0087ff; text-decoration-color: #0087ff\">LSTM</span>)                        │ (<span style=\"color: #00d7ff; text-decoration-color: #00d7ff\">None</span>, <span style=\"color: #00af00; text-decoration-color: #00af00\">100</span>, <span style=\"color: #00af00; text-decoration-color: #00af00\">50</span>)             │          <span style=\"color: #00af00; text-decoration-color: #00af00\">20,200</span> │\n",
              "├──────────────────────────────────────┼─────────────────────────────┼─────────────────┤\n",
              "│ lstm_2 (<span style=\"color: #0087ff; text-decoration-color: #0087ff\">LSTM</span>)                        │ (<span style=\"color: #00d7ff; text-decoration-color: #00d7ff\">None</span>, <span style=\"color: #00af00; text-decoration-color: #00af00\">50</span>)                  │          <span style=\"color: #00af00; text-decoration-color: #00af00\">20,200</span> │\n",
              "├──────────────────────────────────────┼─────────────────────────────┼─────────────────┤\n",
              "│ dense (<span style=\"color: #0087ff; text-decoration-color: #0087ff\">Dense</span>)                        │ (<span style=\"color: #00d7ff; text-decoration-color: #00d7ff\">None</span>, <span style=\"color: #00af00; text-decoration-color: #00af00\">1</span>)                   │              <span style=\"color: #00af00; text-decoration-color: #00af00\">51</span> │\n",
              "└──────────────────────────────────────┴─────────────────────────────┴─────────────────┘\n",
              "</pre>\n"
            ]
          },
          "metadata": {}
        },
        {
          "output_type": "display_data",
          "data": {
            "text/plain": [
              "\u001b[1m Total params: \u001b[0m\u001b[38;5;34m50,851\u001b[0m (198.64 KB)\n"
            ],
            "text/html": [
              "<pre style=\"white-space:pre;overflow-x:auto;line-height:normal;font-family:Menlo,'DejaVu Sans Mono',consolas,'Courier New',monospace\"><span style=\"font-weight: bold\"> Total params: </span><span style=\"color: #00af00; text-decoration-color: #00af00\">50,851</span> (198.64 KB)\n",
              "</pre>\n"
            ]
          },
          "metadata": {}
        },
        {
          "output_type": "display_data",
          "data": {
            "text/plain": [
              "\u001b[1m Trainable params: \u001b[0m\u001b[38;5;34m50,851\u001b[0m (198.64 KB)\n"
            ],
            "text/html": [
              "<pre style=\"white-space:pre;overflow-x:auto;line-height:normal;font-family:Menlo,'DejaVu Sans Mono',consolas,'Courier New',monospace\"><span style=\"font-weight: bold\"> Trainable params: </span><span style=\"color: #00af00; text-decoration-color: #00af00\">50,851</span> (198.64 KB)\n",
              "</pre>\n"
            ]
          },
          "metadata": {}
        },
        {
          "output_type": "display_data",
          "data": {
            "text/plain": [
              "\u001b[1m Non-trainable params: \u001b[0m\u001b[38;5;34m0\u001b[0m (0.00 B)\n"
            ],
            "text/html": [
              "<pre style=\"white-space:pre;overflow-x:auto;line-height:normal;font-family:Menlo,'DejaVu Sans Mono',consolas,'Courier New',monospace\"><span style=\"font-weight: bold\"> Non-trainable params: </span><span style=\"color: #00af00; text-decoration-color: #00af00\">0</span> (0.00 B)\n",
              "</pre>\n"
            ]
          },
          "metadata": {}
        }
      ]
    },
    {
      "cell_type": "code",
      "source": [
        "model.fit(x_train,y_train,validation_data=(x_test,y_test),epochs=100,batch_size=64,verbose=1)"
      ],
      "metadata": {
        "colab": {
          "base_uri": "https://localhost:8080/"
        },
        "id": "_DpH8Ej_kIP4",
        "outputId": "adb8bc16-5bef-4608-c290-085ca7294ea1"
      },
      "execution_count": 39,
      "outputs": [
        {
          "output_type": "stream",
          "name": "stdout",
          "text": [
            "Epoch 1/100\n",
            "\u001b[1m13/13\u001b[0m \u001b[32m━━━━━━━━━━━━━━━━━━━━\u001b[0m\u001b[37m\u001b[0m \u001b[1m11s\u001b[0m 204ms/step - loss: 0.0438 - val_loss: 0.0541\n",
            "Epoch 2/100\n",
            "\u001b[1m13/13\u001b[0m \u001b[32m━━━━━━━━━━━━━━━━━━━━\u001b[0m\u001b[37m\u001b[0m \u001b[1m2s\u001b[0m 158ms/step - loss: 0.0062 - val_loss: 0.0052\n",
            "Epoch 3/100\n",
            "\u001b[1m13/13\u001b[0m \u001b[32m━━━━━━━━━━━━━━━━━━━━\u001b[0m\u001b[37m\u001b[0m \u001b[1m2s\u001b[0m 158ms/step - loss: 0.0014 - val_loss: 0.0089\n",
            "Epoch 4/100\n",
            "\u001b[1m13/13\u001b[0m \u001b[32m━━━━━━━━━━━━━━━━━━━━\u001b[0m\u001b[37m\u001b[0m \u001b[1m2s\u001b[0m 157ms/step - loss: 0.0013 - val_loss: 0.0042\n",
            "Epoch 5/100\n",
            "\u001b[1m13/13\u001b[0m \u001b[32m━━━━━━━━━━━━━━━━━━━━\u001b[0m\u001b[37m\u001b[0m \u001b[1m4s\u001b[0m 262ms/step - loss: 7.7010e-04 - val_loss: 0.0043\n",
            "Epoch 6/100\n",
            "\u001b[1m13/13\u001b[0m \u001b[32m━━━━━━━━━━━━━━━━━━━━\u001b[0m\u001b[37m\u001b[0m \u001b[1m4s\u001b[0m 157ms/step - loss: 8.3219e-04 - val_loss: 0.0048\n",
            "Epoch 7/100\n",
            "\u001b[1m13/13\u001b[0m \u001b[32m━━━━━━━━━━━━━━━━━━━━\u001b[0m\u001b[37m\u001b[0m \u001b[1m2s\u001b[0m 155ms/step - loss: 6.5256e-04 - val_loss: 0.0050\n",
            "Epoch 8/100\n",
            "\u001b[1m13/13\u001b[0m \u001b[32m━━━━━━━━━━━━━━━━━━━━\u001b[0m\u001b[37m\u001b[0m \u001b[1m2s\u001b[0m 158ms/step - loss: 6.8842e-04 - val_loss: 0.0057\n",
            "Epoch 9/100\n",
            "\u001b[1m13/13\u001b[0m \u001b[32m━━━━━━━━━━━━━━━━━━━━\u001b[0m\u001b[37m\u001b[0m \u001b[1m2s\u001b[0m 155ms/step - loss: 6.2410e-04 - val_loss: 0.0056\n",
            "Epoch 10/100\n",
            "\u001b[1m13/13\u001b[0m \u001b[32m━━━━━━━━━━━━━━━━━━━━\u001b[0m\u001b[37m\u001b[0m \u001b[1m4s\u001b[0m 254ms/step - loss: 6.2592e-04 - val_loss: 0.0058\n",
            "Epoch 11/100\n",
            "\u001b[1m13/13\u001b[0m \u001b[32m━━━━━━━━━━━━━━━━━━━━\u001b[0m\u001b[37m\u001b[0m \u001b[1m4s\u001b[0m 159ms/step - loss: 6.5558e-04 - val_loss: 0.0059\n",
            "Epoch 12/100\n",
            "\u001b[1m13/13\u001b[0m \u001b[32m━━━━━━━━━━━━━━━━━━━━\u001b[0m\u001b[37m\u001b[0m \u001b[1m2s\u001b[0m 157ms/step - loss: 6.2277e-04 - val_loss: 0.0045\n",
            "Epoch 13/100\n",
            "\u001b[1m13/13\u001b[0m \u001b[32m━━━━━━━━━━━━━━━━━━━━\u001b[0m\u001b[37m\u001b[0m \u001b[1m2s\u001b[0m 156ms/step - loss: 6.7976e-04 - val_loss: 0.0038\n",
            "Epoch 14/100\n",
            "\u001b[1m13/13\u001b[0m \u001b[32m━━━━━━━━━━━━━━━━━━━━\u001b[0m\u001b[37m\u001b[0m \u001b[1m3s\u001b[0m 195ms/step - loss: 6.2396e-04 - val_loss: 0.0036\n",
            "Epoch 15/100\n",
            "\u001b[1m13/13\u001b[0m \u001b[32m━━━━━━━━━━━━━━━━━━━━\u001b[0m\u001b[37m\u001b[0m \u001b[1m3s\u001b[0m 240ms/step - loss: 6.2547e-04 - val_loss: 0.0049\n",
            "Epoch 16/100\n",
            "\u001b[1m13/13\u001b[0m \u001b[32m━━━━━━━━━━━━━━━━━━━━\u001b[0m\u001b[37m\u001b[0m \u001b[1m4s\u001b[0m 157ms/step - loss: 5.7690e-04 - val_loss: 0.0060\n",
            "Epoch 17/100\n",
            "\u001b[1m13/13\u001b[0m \u001b[32m━━━━━━━━━━━━━━━━━━━━\u001b[0m\u001b[37m\u001b[0m \u001b[1m2s\u001b[0m 159ms/step - loss: 6.1729e-04 - val_loss: 0.0048\n",
            "Epoch 18/100\n",
            "\u001b[1m13/13\u001b[0m \u001b[32m━━━━━━━━━━━━━━━━━━━━\u001b[0m\u001b[37m\u001b[0m \u001b[1m3s\u001b[0m 157ms/step - loss: 5.4082e-04 - val_loss: 0.0046\n",
            "Epoch 19/100\n",
            "\u001b[1m13/13\u001b[0m \u001b[32m━━━━━━━━━━━━━━━━━━━━\u001b[0m\u001b[37m\u001b[0m \u001b[1m3s\u001b[0m 230ms/step - loss: 6.1348e-04 - val_loss: 0.0040\n",
            "Epoch 20/100\n",
            "\u001b[1m13/13\u001b[0m \u001b[32m━━━━━━━━━━━━━━━━━━━━\u001b[0m\u001b[37m\u001b[0m \u001b[1m3s\u001b[0m 207ms/step - loss: 5.3774e-04 - val_loss: 0.0054\n",
            "Epoch 21/100\n",
            "\u001b[1m13/13\u001b[0m \u001b[32m━━━━━━━━━━━━━━━━━━━━\u001b[0m\u001b[37m\u001b[0m \u001b[1m4s\u001b[0m 157ms/step - loss: 5.7838e-04 - val_loss: 0.0060\n",
            "Epoch 22/100\n",
            "\u001b[1m13/13\u001b[0m \u001b[32m━━━━━━━━━━━━━━━━━━━━\u001b[0m\u001b[37m\u001b[0m \u001b[1m3s\u001b[0m 157ms/step - loss: 6.3542e-04 - val_loss: 0.0039\n",
            "Epoch 23/100\n",
            "\u001b[1m13/13\u001b[0m \u001b[32m━━━━━━━━━━━━━━━━━━━━\u001b[0m\u001b[37m\u001b[0m \u001b[1m3s\u001b[0m 190ms/step - loss: 6.5673e-04 - val_loss: 0.0032\n",
            "Epoch 24/100\n",
            "\u001b[1m13/13\u001b[0m \u001b[32m━━━━━━━━━━━━━━━━━━━━\u001b[0m\u001b[37m\u001b[0m \u001b[1m3s\u001b[0m 237ms/step - loss: 5.1277e-04 - val_loss: 0.0057\n",
            "Epoch 25/100\n",
            "\u001b[1m13/13\u001b[0m \u001b[32m━━━━━━━━━━━━━━━━━━━━\u001b[0m\u001b[37m\u001b[0m \u001b[1m4s\u001b[0m 157ms/step - loss: 5.5340e-04 - val_loss: 0.0039\n",
            "Epoch 26/100\n",
            "\u001b[1m13/13\u001b[0m \u001b[32m━━━━━━━━━━━━━━━━━━━━\u001b[0m\u001b[37m\u001b[0m \u001b[1m3s\u001b[0m 159ms/step - loss: 5.1504e-04 - val_loss: 0.0027\n",
            "Epoch 27/100\n",
            "\u001b[1m13/13\u001b[0m \u001b[32m━━━━━━━━━━━━━━━━━━━━\u001b[0m\u001b[37m\u001b[0m \u001b[1m2s\u001b[0m 160ms/step - loss: 6.0189e-04 - val_loss: 0.0061\n",
            "Epoch 28/100\n",
            "\u001b[1m13/13\u001b[0m \u001b[32m━━━━━━━━━━━━━━━━━━━━\u001b[0m\u001b[37m\u001b[0m \u001b[1m4s\u001b[0m 260ms/step - loss: 5.7793e-04 - val_loss: 0.0045\n",
            "Epoch 29/100\n",
            "\u001b[1m13/13\u001b[0m \u001b[32m━━━━━━━━━━━━━━━━━━━━\u001b[0m\u001b[37m\u001b[0m \u001b[1m4s\u001b[0m 158ms/step - loss: 4.6398e-04 - val_loss: 0.0048\n",
            "Epoch 30/100\n",
            "\u001b[1m13/13\u001b[0m \u001b[32m━━━━━━━━━━━━━━━━━━━━\u001b[0m\u001b[37m\u001b[0m \u001b[1m3s\u001b[0m 159ms/step - loss: 6.2107e-04 - val_loss: 0.0041\n",
            "Epoch 31/100\n",
            "\u001b[1m13/13\u001b[0m \u001b[32m━━━━━━━━━━━━━━━━━━━━\u001b[0m\u001b[37m\u001b[0m \u001b[1m2s\u001b[0m 157ms/step - loss: 4.9230e-04 - val_loss: 0.0038\n",
            "Epoch 32/100\n",
            "\u001b[1m13/13\u001b[0m \u001b[32m━━━━━━━━━━━━━━━━━━━━\u001b[0m\u001b[37m\u001b[0m \u001b[1m3s\u001b[0m 195ms/step - loss: 5.0047e-04 - val_loss: 0.0051\n",
            "Epoch 33/100\n",
            "\u001b[1m13/13\u001b[0m \u001b[32m━━━━━━━━━━━━━━━━━━━━\u001b[0m\u001b[37m\u001b[0m \u001b[1m3s\u001b[0m 226ms/step - loss: 4.9904e-04 - val_loss: 0.0021\n",
            "Epoch 34/100\n",
            "\u001b[1m13/13\u001b[0m \u001b[32m━━━━━━━━━━━━━━━━━━━━\u001b[0m\u001b[37m\u001b[0m \u001b[1m4s\u001b[0m 158ms/step - loss: 5.4472e-04 - val_loss: 0.0036\n",
            "Epoch 35/100\n",
            "\u001b[1m13/13\u001b[0m \u001b[32m━━━━━━━━━━━━━━━━━━━━\u001b[0m\u001b[37m\u001b[0m \u001b[1m3s\u001b[0m 158ms/step - loss: 4.3562e-04 - val_loss: 0.0046\n",
            "Epoch 36/100\n",
            "\u001b[1m13/13\u001b[0m \u001b[32m━━━━━━━━━━━━━━━━━━━━\u001b[0m\u001b[37m\u001b[0m \u001b[1m3s\u001b[0m 165ms/step - loss: 5.8147e-04 - val_loss: 0.0024\n",
            "Epoch 37/100\n",
            "\u001b[1m13/13\u001b[0m \u001b[32m━━━━━━━━━━━━━━━━━━━━\u001b[0m\u001b[37m\u001b[0m \u001b[1m4s\u001b[0m 256ms/step - loss: 5.0113e-04 - val_loss: 0.0041\n",
            "Epoch 38/100\n",
            "\u001b[1m13/13\u001b[0m \u001b[32m━━━━━━━━━━━━━━━━━━━━\u001b[0m\u001b[37m\u001b[0m \u001b[1m4s\u001b[0m 161ms/step - loss: 5.7921e-04 - val_loss: 0.0033\n",
            "Epoch 39/100\n",
            "\u001b[1m13/13\u001b[0m \u001b[32m━━━━━━━━━━━━━━━━━━━━\u001b[0m\u001b[37m\u001b[0m \u001b[1m2s\u001b[0m 159ms/step - loss: 4.7028e-04 - val_loss: 0.0031\n",
            "Epoch 40/100\n",
            "\u001b[1m13/13\u001b[0m \u001b[32m━━━━━━━━━━━━━━━━━━━━\u001b[0m\u001b[37m\u001b[0m \u001b[1m3s\u001b[0m 157ms/step - loss: 4.8400e-04 - val_loss: 0.0028\n",
            "Epoch 41/100\n",
            "\u001b[1m13/13\u001b[0m \u001b[32m━━━━━━━━━━━━━━━━━━━━\u001b[0m\u001b[37m\u001b[0m \u001b[1m3s\u001b[0m 230ms/step - loss: 4.9962e-04 - val_loss: 0.0046\n",
            "Epoch 42/100\n",
            "\u001b[1m13/13\u001b[0m \u001b[32m━━━━━━━━━━━━━━━━━━━━\u001b[0m\u001b[37m\u001b[0m \u001b[1m4s\u001b[0m 157ms/step - loss: 4.6439e-04 - val_loss: 0.0030\n",
            "Epoch 43/100\n",
            "\u001b[1m13/13\u001b[0m \u001b[32m━━━━━━━━━━━━━━━━━━━━\u001b[0m\u001b[37m\u001b[0m \u001b[1m2s\u001b[0m 159ms/step - loss: 4.7912e-04 - val_loss: 0.0029\n",
            "Epoch 44/100\n",
            "\u001b[1m13/13\u001b[0m \u001b[32m━━━━━━━━━━━━━━━━━━━━\u001b[0m\u001b[37m\u001b[0m \u001b[1m3s\u001b[0m 158ms/step - loss: 3.9659e-04 - val_loss: 0.0036\n",
            "Epoch 45/100\n",
            "\u001b[1m13/13\u001b[0m \u001b[32m━━━━━━━━━━━━━━━━━━━━\u001b[0m\u001b[37m\u001b[0m \u001b[1m3s\u001b[0m 197ms/step - loss: 4.0852e-04 - val_loss: 0.0027\n",
            "Epoch 46/100\n",
            "\u001b[1m13/13\u001b[0m \u001b[32m━━━━━━━━━━━━━━━━━━━━\u001b[0m\u001b[37m\u001b[0m \u001b[1m3s\u001b[0m 244ms/step - loss: 4.3850e-04 - val_loss: 0.0047\n",
            "Epoch 47/100\n",
            "\u001b[1m13/13\u001b[0m \u001b[32m━━━━━━━━━━━━━━━━━━━━\u001b[0m\u001b[37m\u001b[0m \u001b[1m2s\u001b[0m 158ms/step - loss: 4.1530e-04 - val_loss: 0.0031\n",
            "Epoch 48/100\n",
            "\u001b[1m13/13\u001b[0m \u001b[32m━━━━━━━━━━━━━━━━━━━━\u001b[0m\u001b[37m\u001b[0m \u001b[1m2s\u001b[0m 158ms/step - loss: 4.2155e-04 - val_loss: 0.0036\n",
            "Epoch 49/100\n",
            "\u001b[1m13/13\u001b[0m \u001b[32m━━━━━━━━━━━━━━━━━━━━\u001b[0m\u001b[37m\u001b[0m \u001b[1m3s\u001b[0m 157ms/step - loss: 4.1386e-04 - val_loss: 0.0024\n",
            "Epoch 50/100\n",
            "\u001b[1m13/13\u001b[0m \u001b[32m━━━━━━━━━━━━━━━━━━━━\u001b[0m\u001b[37m\u001b[0m \u001b[1m3s\u001b[0m 159ms/step - loss: 4.4068e-04 - val_loss: 0.0018\n",
            "Epoch 51/100\n",
            "\u001b[1m13/13\u001b[0m \u001b[32m━━━━━━━━━━━━━━━━━━━━\u001b[0m\u001b[37m\u001b[0m \u001b[1m3s\u001b[0m 256ms/step - loss: 5.8646e-04 - val_loss: 0.0050\n",
            "Epoch 52/100\n",
            "\u001b[1m13/13\u001b[0m \u001b[32m━━━━━━━━━━━━━━━━━━━━\u001b[0m\u001b[37m\u001b[0m \u001b[1m4s\u001b[0m 159ms/step - loss: 4.4571e-04 - val_loss: 0.0026\n",
            "Epoch 53/100\n",
            "\u001b[1m13/13\u001b[0m \u001b[32m━━━━━━━━━━━━━━━━━━━━\u001b[0m\u001b[37m\u001b[0m \u001b[1m2s\u001b[0m 159ms/step - loss: 4.0657e-04 - val_loss: 0.0032\n",
            "Epoch 54/100\n",
            "\u001b[1m13/13\u001b[0m \u001b[32m━━━━━━━━━━━━━━━━━━━━\u001b[0m\u001b[37m\u001b[0m \u001b[1m2s\u001b[0m 160ms/step - loss: 3.8167e-04 - val_loss: 0.0033\n",
            "Epoch 55/100\n",
            "\u001b[1m13/13\u001b[0m \u001b[32m━━━━━━━━━━━━━━━━━━━━\u001b[0m\u001b[37m\u001b[0m \u001b[1m2s\u001b[0m 160ms/step - loss: 4.0271e-04 - val_loss: 0.0025\n",
            "Epoch 56/100\n",
            "\u001b[1m13/13\u001b[0m \u001b[32m━━━━━━━━━━━━━━━━━━━━\u001b[0m\u001b[37m\u001b[0m \u001b[1m3s\u001b[0m 268ms/step - loss: 3.9776e-04 - val_loss: 0.0025\n",
            "Epoch 57/100\n",
            "\u001b[1m13/13\u001b[0m \u001b[32m━━━━━━━━━━━━━━━━━━━━\u001b[0m\u001b[37m\u001b[0m \u001b[1m2s\u001b[0m 157ms/step - loss: 3.8896e-04 - val_loss: 0.0023\n",
            "Epoch 58/100\n",
            "\u001b[1m13/13\u001b[0m \u001b[32m━━━━━━━━━━━━━━━━━━━━\u001b[0m\u001b[37m\u001b[0m \u001b[1m3s\u001b[0m 159ms/step - loss: 3.5387e-04 - val_loss: 0.0029\n",
            "Epoch 59/100\n",
            "\u001b[1m13/13\u001b[0m \u001b[32m━━━━━━━━━━━━━━━━━━━━\u001b[0m\u001b[37m\u001b[0m \u001b[1m3s\u001b[0m 161ms/step - loss: 3.6822e-04 - val_loss: 0.0016\n",
            "Epoch 60/100\n",
            "\u001b[1m13/13\u001b[0m \u001b[32m━━━━━━━━━━━━━━━━━━━━\u001b[0m\u001b[37m\u001b[0m \u001b[1m3s\u001b[0m 160ms/step - loss: 4.1342e-04 - val_loss: 0.0039\n",
            "Epoch 61/100\n",
            "\u001b[1m13/13\u001b[0m \u001b[32m━━━━━━━━━━━━━━━━━━━━\u001b[0m\u001b[37m\u001b[0m \u001b[1m4s\u001b[0m 291ms/step - loss: 3.9842e-04 - val_loss: 0.0021\n",
            "Epoch 62/100\n",
            "\u001b[1m13/13\u001b[0m \u001b[32m━━━━━━━━━━━━━━━━━━━━\u001b[0m\u001b[37m\u001b[0m \u001b[1m2s\u001b[0m 159ms/step - loss: 3.8404e-04 - val_loss: 0.0022\n",
            "Epoch 63/100\n",
            "\u001b[1m13/13\u001b[0m \u001b[32m━━━━━━━━━━━━━━━━━━━━\u001b[0m\u001b[37m\u001b[0m \u001b[1m3s\u001b[0m 160ms/step - loss: 3.6315e-04 - val_loss: 0.0017\n",
            "Epoch 64/100\n",
            "\u001b[1m13/13\u001b[0m \u001b[32m━━━━━━━━━━━━━━━━━━━━\u001b[0m\u001b[37m\u001b[0m \u001b[1m2s\u001b[0m 160ms/step - loss: 4.3753e-04 - val_loss: 0.0045\n",
            "Epoch 65/100\n",
            "\u001b[1m13/13\u001b[0m \u001b[32m━━━━━━━━━━━━━━━━━━━━\u001b[0m\u001b[37m\u001b[0m \u001b[1m2s\u001b[0m 158ms/step - loss: 4.3333e-04 - val_loss: 0.0018\n",
            "Epoch 66/100\n",
            "\u001b[1m13/13\u001b[0m \u001b[32m━━━━━━━━━━━━━━━━━━━━\u001b[0m\u001b[37m\u001b[0m \u001b[1m3s\u001b[0m 221ms/step - loss: 3.7680e-04 - val_loss: 0.0035\n",
            "Epoch 67/100\n",
            "\u001b[1m13/13\u001b[0m \u001b[32m━━━━━━━━━━━━━━━━━━━━\u001b[0m\u001b[37m\u001b[0m \u001b[1m4s\u001b[0m 167ms/step - loss: 3.5574e-04 - val_loss: 0.0015\n",
            "Epoch 68/100\n",
            "\u001b[1m13/13\u001b[0m \u001b[32m━━━━━━━━━━━━━━━━━━━━\u001b[0m\u001b[37m\u001b[0m \u001b[1m2s\u001b[0m 158ms/step - loss: 3.7171e-04 - val_loss: 0.0026\n",
            "Epoch 69/100\n",
            "\u001b[1m13/13\u001b[0m \u001b[32m━━━━━━━━━━━━━━━━━━━━\u001b[0m\u001b[37m\u001b[0m \u001b[1m2s\u001b[0m 162ms/step - loss: 3.0943e-04 - val_loss: 0.0017\n",
            "Epoch 70/100\n",
            "\u001b[1m13/13\u001b[0m \u001b[32m━━━━━━━━━━━━━━━━━━━━\u001b[0m\u001b[37m\u001b[0m \u001b[1m3s\u001b[0m 196ms/step - loss: 3.4087e-04 - val_loss: 0.0015\n",
            "Epoch 71/100\n",
            "\u001b[1m13/13\u001b[0m \u001b[32m━━━━━━━━━━━━━━━━━━━━\u001b[0m\u001b[37m\u001b[0m \u001b[1m3s\u001b[0m 229ms/step - loss: 3.7180e-04 - val_loss: 0.0017\n",
            "Epoch 72/100\n",
            "\u001b[1m13/13\u001b[0m \u001b[32m━━━━━━━━━━━━━━━━━━━━\u001b[0m\u001b[37m\u001b[0m \u001b[1m4s\u001b[0m 162ms/step - loss: 3.1694e-04 - val_loss: 0.0028\n",
            "Epoch 73/100\n",
            "\u001b[1m13/13\u001b[0m \u001b[32m━━━━━━━━━━━━━━━━━━━━\u001b[0m\u001b[37m\u001b[0m \u001b[1m2s\u001b[0m 159ms/step - loss: 3.4217e-04 - val_loss: 0.0018\n",
            "Epoch 74/100\n",
            "\u001b[1m13/13\u001b[0m \u001b[32m━━━━━━━━━━━━━━━━━━━━\u001b[0m\u001b[37m\u001b[0m \u001b[1m3s\u001b[0m 160ms/step - loss: 3.1232e-04 - val_loss: 0.0023\n",
            "Epoch 75/100\n",
            "\u001b[1m13/13\u001b[0m \u001b[32m━━━━━━━━━━━━━━━━━━━━\u001b[0m\u001b[37m\u001b[0m \u001b[1m4s\u001b[0m 266ms/step - loss: 3.1549e-04 - val_loss: 0.0020\n",
            "Epoch 76/100\n",
            "\u001b[1m13/13\u001b[0m \u001b[32m━━━━━━━━━━━━━━━━━━━━\u001b[0m\u001b[37m\u001b[0m \u001b[1m4s\u001b[0m 158ms/step - loss: 2.9399e-04 - val_loss: 0.0019\n",
            "Epoch 77/100\n",
            "\u001b[1m13/13\u001b[0m \u001b[32m━━━━━━━━━━━━━━━━━━━━\u001b[0m\u001b[37m\u001b[0m \u001b[1m2s\u001b[0m 159ms/step - loss: 3.0482e-04 - val_loss: 0.0019\n",
            "Epoch 78/100\n",
            "\u001b[1m13/13\u001b[0m \u001b[32m━━━━━━━━━━━━━━━━━━━━\u001b[0m\u001b[37m\u001b[0m \u001b[1m2s\u001b[0m 157ms/step - loss: 3.4491e-04 - val_loss: 0.0025\n",
            "Epoch 79/100\n",
            "\u001b[1m13/13\u001b[0m \u001b[32m━━━━━━━━━━━━━━━━━━━━\u001b[0m\u001b[37m\u001b[0m \u001b[1m3s\u001b[0m 172ms/step - loss: 2.9146e-04 - val_loss: 0.0017\n",
            "Epoch 80/100\n",
            "\u001b[1m13/13\u001b[0m \u001b[32m━━━━━━━━━━━━━━━━━━━━\u001b[0m\u001b[37m\u001b[0m \u001b[1m4s\u001b[0m 250ms/step - loss: 2.8775e-04 - val_loss: 0.0031\n",
            "Epoch 81/100\n",
            "\u001b[1m13/13\u001b[0m \u001b[32m━━━━━━━━━━━━━━━━━━━━\u001b[0m\u001b[37m\u001b[0m \u001b[1m4s\u001b[0m 158ms/step - loss: 3.1049e-04 - val_loss: 0.0019\n",
            "Epoch 82/100\n",
            "\u001b[1m13/13\u001b[0m \u001b[32m━━━━━━━━━━━━━━━━━━━━\u001b[0m\u001b[37m\u001b[0m \u001b[1m2s\u001b[0m 158ms/step - loss: 2.9720e-04 - val_loss: 0.0029\n",
            "Epoch 83/100\n",
            "\u001b[1m13/13\u001b[0m \u001b[32m━━━━━━━━━━━━━━━━━━━━\u001b[0m\u001b[37m\u001b[0m \u001b[1m2s\u001b[0m 159ms/step - loss: 3.0282e-04 - val_loss: 0.0014\n",
            "Epoch 84/100\n",
            "\u001b[1m13/13\u001b[0m \u001b[32m━━━━━━━━━━━━━━━━━━━━\u001b[0m\u001b[37m\u001b[0m \u001b[1m2s\u001b[0m 193ms/step - loss: 2.7807e-04 - val_loss: 0.0016\n",
            "Epoch 85/100\n",
            "\u001b[1m13/13\u001b[0m \u001b[32m━━━━━━━━━━━━━━━━━━━━\u001b[0m\u001b[37m\u001b[0m \u001b[1m3s\u001b[0m 238ms/step - loss: 2.5291e-04 - val_loss: 0.0021\n",
            "Epoch 86/100\n",
            "\u001b[1m13/13\u001b[0m \u001b[32m━━━━━━━━━━━━━━━━━━━━\u001b[0m\u001b[37m\u001b[0m \u001b[1m4s\u001b[0m 158ms/step - loss: 2.5628e-04 - val_loss: 0.0020\n",
            "Epoch 87/100\n",
            "\u001b[1m13/13\u001b[0m \u001b[32m━━━━━━━━━━━━━━━━━━━━\u001b[0m\u001b[37m\u001b[0m \u001b[1m2s\u001b[0m 158ms/step - loss: 2.6688e-04 - val_loss: 0.0021\n",
            "Epoch 88/100\n",
            "\u001b[1m13/13\u001b[0m \u001b[32m━━━━━━━━━━━━━━━━━━━━\u001b[0m\u001b[37m\u001b[0m \u001b[1m3s\u001b[0m 158ms/step - loss: 2.9283e-04 - val_loss: 0.0011\n",
            "Epoch 89/100\n",
            "\u001b[1m13/13\u001b[0m \u001b[32m━━━━━━━━━━━━━━━━━━━━\u001b[0m\u001b[37m\u001b[0m \u001b[1m4s\u001b[0m 263ms/step - loss: 3.2653e-04 - val_loss: 0.0013\n",
            "Epoch 90/100\n",
            "\u001b[1m13/13\u001b[0m \u001b[32m━━━━━━━━━━━━━━━━━━━━\u001b[0m\u001b[37m\u001b[0m \u001b[1m4s\u001b[0m 159ms/step - loss: 2.7669e-04 - val_loss: 0.0015\n",
            "Epoch 91/100\n",
            "\u001b[1m13/13\u001b[0m \u001b[32m━━━━━━━━━━━━━━━━━━━━\u001b[0m\u001b[37m\u001b[0m \u001b[1m2s\u001b[0m 165ms/step - loss: 2.6038e-04 - val_loss: 0.0013\n",
            "Epoch 92/100\n",
            "\u001b[1m13/13\u001b[0m \u001b[32m━━━━━━━━━━━━━━━━━━━━\u001b[0m\u001b[37m\u001b[0m \u001b[1m2s\u001b[0m 157ms/step - loss: 2.5964e-04 - val_loss: 0.0013\n",
            "Epoch 93/100\n",
            "\u001b[1m13/13\u001b[0m \u001b[32m━━━━━━━━━━━━━━━━━━━━\u001b[0m\u001b[37m\u001b[0m \u001b[1m2s\u001b[0m 171ms/step - loss: 2.4610e-04 - val_loss: 0.0014\n",
            "Epoch 94/100\n",
            "\u001b[1m13/13\u001b[0m \u001b[32m━━━━━━━━━━━━━━━━━━━━\u001b[0m\u001b[37m\u001b[0m \u001b[1m3s\u001b[0m 268ms/step - loss: 2.4972e-04 - val_loss: 0.0029\n",
            "Epoch 95/100\n",
            "\u001b[1m13/13\u001b[0m \u001b[32m━━━━━━━━━━━━━━━━━━━━\u001b[0m\u001b[37m\u001b[0m \u001b[1m4s\u001b[0m 161ms/step - loss: 2.5875e-04 - val_loss: 0.0014\n",
            "Epoch 96/100\n",
            "\u001b[1m13/13\u001b[0m \u001b[32m━━━━━━━━━━━━━━━━━━━━\u001b[0m\u001b[37m\u001b[0m \u001b[1m2s\u001b[0m 158ms/step - loss: 2.8156e-04 - val_loss: 0.0011\n",
            "Epoch 97/100\n",
            "\u001b[1m13/13\u001b[0m \u001b[32m━━━━━━━━━━━━━━━━━━━━\u001b[0m\u001b[37m\u001b[0m \u001b[1m2s\u001b[0m 159ms/step - loss: 3.4618e-04 - val_loss: 0.0016\n",
            "Epoch 98/100\n",
            "\u001b[1m13/13\u001b[0m \u001b[32m━━━━━━━━━━━━━━━━━━━━\u001b[0m\u001b[37m\u001b[0m \u001b[1m2s\u001b[0m 174ms/step - loss: 2.6954e-04 - val_loss: 0.0026\n",
            "Epoch 99/100\n",
            "\u001b[1m13/13\u001b[0m \u001b[32m━━━━━━━━━━━━━━━━━━━━\u001b[0m\u001b[37m\u001b[0m \u001b[1m4s\u001b[0m 255ms/step - loss: 2.7175e-04 - val_loss: 0.0022\n",
            "Epoch 100/100\n",
            "\u001b[1m13/13\u001b[0m \u001b[32m━━━━━━━━━━━━━━━━━━━━\u001b[0m\u001b[37m\u001b[0m \u001b[1m2s\u001b[0m 161ms/step - loss: 3.0175e-04 - val_loss: 9.9007e-04\n"
          ]
        },
        {
          "output_type": "execute_result",
          "data": {
            "text/plain": [
              "<keras.src.callbacks.history.History at 0x7abd841c1f60>"
            ]
          },
          "metadata": {},
          "execution_count": 39
        }
      ]
    },
    {
      "cell_type": "code",
      "source": [
        "train_predict=model.predict(x_train)\n",
        "test_predict=model.predict(x_test)"
      ],
      "metadata": {
        "colab": {
          "base_uri": "https://localhost:8080/"
        },
        "id": "EHrOuyyxkRg7",
        "outputId": "32e25d0a-c286-4e13-a4af-cdf6bc6b8ae1"
      },
      "execution_count": 40,
      "outputs": [
        {
          "output_type": "stream",
          "name": "stdout",
          "text": [
            "\u001b[1m25/25\u001b[0m \u001b[32m━━━━━━━━━━━━━━━━━━━━\u001b[0m\u001b[37m\u001b[0m \u001b[1m2s\u001b[0m 51ms/step\n",
            "\u001b[1m9/9\u001b[0m \u001b[32m━━━━━━━━━━━━━━━━━━━━\u001b[0m\u001b[37m\u001b[0m \u001b[1m0s\u001b[0m 34ms/step\n"
          ]
        }
      ]
    },
    {
      "cell_type": "code",
      "source": [
        "train_predict=scaler.inverse_transform(train_predict)\n",
        "test_predict=scaler.inverse_transform(test_predict)"
      ],
      "metadata": {
        "id": "OB4Xqs64lzUC"
      },
      "execution_count": 41,
      "outputs": []
    },
    {
      "cell_type": "code",
      "source": [
        "import math\n",
        "from sklearn.metrics import mean_squared_error\n",
        "math.sqrt(mean_squared_error(y_train,train_predict))"
      ],
      "metadata": {
        "colab": {
          "base_uri": "https://localhost:8080/"
        },
        "id": "uldGe2iLl4wV",
        "outputId": "8ac08d40-3da4-4a1e-ad46-ccd4f5ead2b9"
      },
      "execution_count": 42,
      "outputs": [
        {
          "output_type": "execute_result",
          "data": {
            "text/plain": [
              "151.26913947362246"
            ]
          },
          "metadata": {},
          "execution_count": 42
        }
      ]
    },
    {
      "cell_type": "code",
      "source": [
        "math.sqrt(mean_squared_error(y_test,test_predict))"
      ],
      "metadata": {
        "colab": {
          "base_uri": "https://localhost:8080/"
        },
        "id": "P7shQylNm8Bg",
        "outputId": "5022f1e5-bb68-4087-8398-0e1f7f0a104e"
      },
      "execution_count": 44,
      "outputs": [
        {
          "output_type": "execute_result",
          "data": {
            "text/plain": [
              "250.2678204423539"
            ]
          },
          "metadata": {},
          "execution_count": 44
        }
      ]
    },
    {
      "cell_type": "code",
      "source": [
        "### Plotting\n",
        "# shift train predictions for plotting\n",
        "look_back=100\n",
        "trainPredictPlot = np.empty_like(df2)\n",
        "trainPredictPlot[:, :] = np.nan\n",
        "trainPredictPlot[look_back:len(train_predict)+look_back, :] = train_predict\n",
        "# shift test predictions for plotting\n",
        "testPredictPlot = np.empty_like(df2)\n",
        "testPredictPlot[:, :] = np.nan\n",
        "testPredictPlot[len(train_predict)+(look_back*2)+1:len(df2)-1, :] = test_predict\n",
        "# plot baseline and predictions\n",
        "plt.plot(scaler.inverse_transform(df2))\n",
        "plt.plot(trainPredictPlot)\n",
        "plt.plot(testPredictPlot)\n",
        "plt.show()"
      ],
      "metadata": {
        "colab": {
          "base_uri": "https://localhost:8080/",
          "height": 430
        },
        "id": "XQurJ72om9-R",
        "outputId": "3654c5db-947c-4a05-b0c1-f189631eebbd"
      },
      "execution_count": 49,
      "outputs": [
        {
          "output_type": "display_data",
          "data": {
            "text/plain": [
              "<Figure size 640x480 with 1 Axes>"
            ],
            "image/png": "[encoded data removed]"
          },
          "metadata": {}
        }
      ]
    },
    {
      "cell_type": "code",
      "source": [
        "x_input=test_data[341:].values.reshape(1,-1)\n",
        "x_input.shape"
      ],
      "metadata": {
        "colab": {
          "base_uri": "https://localhost:8080/"
        },
        "id": "U2-mFPhZnjrR",
        "outputId": "f512e295-e07e-435c-ebf2-f9b230a21db2"
      },
      "execution_count": 52,
      "outputs": [
        {
          "output_type": "execute_result",
          "data": {
            "text/plain": [
              "(1, 37)"
            ]
          },
          "metadata": {},
          "execution_count": 52
        }
      ]
    },
    {
      "cell_type": "code",
      "source": [
        "temp_input=list(x_input)\n",
        "temp_input=temp_input[0].tolist()"
      ],
      "metadata": {
        "id": "ja7YjilsnysO"
      },
      "execution_count": 53,
      "outputs": []
    },
    {
      "source": [
        "from numpy import array\n",
        "lst_output=[]\n",
        "n_steps=100\n",
        "i=0\n",
        "while(i<30):\n",
        "    if(len(temp_input)>100):\n",
        "        #print(temp_input)\n",
        "        x_input=np.array(temp_input[1:])\n",
        "        print(\"{} day input {}\".format(i,x_input))\n",
        "        x_input=x_input.reshape(1,-1)\n",
        "        x_input = x_input.reshape((1, n_steps, 1))\n",
        "        #print(x_input)\n",
        "        yhat = model.predict(x_input, verbose=0)\n",
        "        print(\"{} day output {}\".format(i,yhat))\n",
        "        temp_input.extend(yhat[0].tolist())\n",
        "        temp_input=temp_input[1:]\n",
        "        #print(temp_input)\n",
        "        lst_output.extend(yhat.tolist())\n",
        "        i=i+1\n",
        "    else:\n",
        "        x_input = x_input.reshape((1, n_steps,1))\n",
        "        yhat = model.predict(x_input, verbose=0)\n",
        "        print(yhat[0])\n",
        "        temp_input.extend(yhat[0].tolist())\n",
        "        print(len(temp_input))\n",
        "        lst_output.extend(yhat.tolist())\n",
        "        i=i+1\n",
        "\n",
        "\n",
        "print(lst_output)"
      ],
      "cell_type": "code",
      "metadata": {
        "colab": {
          "base_uri": "https://localhost:8080/"
        },
        "id": "b3RBmbURoAAS",
        "outputId": "5ae78993-7f8a-440c-c12e-146aa624d05e"
      },
      "execution_count": 58,
      "outputs": [
        {
          "output_type": "stream",
          "name": "stdout",
          "text": [
            "[-0.00114405]\n",
            "98\n",
            "[-0.00114405]\n",
            "99\n",
            "[-0.00114405]\n",
            "100\n",
            "[-0.00114405]\n",
            "101\n",
            "4 day input [ 0.65266402  0.63780292  0.7267162   0.71388162  0.74191506  0.75002111\n",
            "  0.77222832  0.83049059  0.8194292   0.8289707   0.8125475   0.78776492\n",
            "  0.75162543  0.78426074  0.77974331  0.81326522  0.8141096   0.79473106\n",
            "  0.83336148  0.85898843  0.83901883  0.85628641  0.87486279  0.88782403\n",
            "  0.90095415  0.92793211  0.948535    0.93333615  0.91746179  0.92544119\n",
            "  0.91771511  0.9483239   0.94064004  0.96635143  0.9563033   0.96491598\n",
            " -0.00113597 -0.00113601 -0.00113604 -0.00113609 -0.00113614 -0.0011362\n",
            " -0.00113627 -0.00113634 -0.00113643 -0.00113653 -0.00113664 -0.00113676\n",
            " -0.00113691 -0.00113707 -0.00113725 -0.00113744 -0.00113767 -0.00113792\n",
            " -0.00113818 -0.00113848 -0.00113881 -0.00113917 -0.00113956 -0.00114\n",
            " -0.00114048 -0.00114101 -0.00114162 -0.00114231 -0.0011431  -0.00114405\n",
            " -0.00114405 -0.00114405 -0.00114405 -0.00114405 -0.00114405 -0.00114405\n",
            " -0.00114405 -0.00114405 -0.00114405 -0.00114405 -0.00114405 -0.00114405\n",
            " -0.00114405 -0.00114405 -0.00114405 -0.00114405 -0.00114405 -0.00114405\n",
            " -0.00114405 -0.00114405 -0.00114405 -0.00114405 -0.00114405 -0.00114405\n",
            " -0.00114405 -0.00114405 -0.00114405 -0.00114405 -0.00114405 -0.00114405\n",
            " -0.00114405 -0.00114405 -0.00114405 -0.00114405]\n",
            "4 day output [[-0.00234198]]\n",
            "5 day input [ 0.63780292  0.7267162   0.71388162  0.74191506  0.75002111  0.77222832\n",
            "  0.83049059  0.8194292   0.8289707   0.8125475   0.78776492  0.75162543\n",
            "  0.78426074  0.77974331  0.81326522  0.8141096   0.79473106  0.83336148\n",
            "  0.85898843  0.83901883  0.85628641  0.87486279  0.88782403  0.90095415\n",
            "  0.92793211  0.948535    0.93333615  0.91746179  0.92544119  0.91771511\n",
            "  0.9483239   0.94064004  0.96635143  0.9563033   0.96491598 -0.00113597\n",
            " -0.00113601 -0.00113604 -0.00113609 -0.00113614 -0.0011362  -0.00113627\n",
            " -0.00113634 -0.00113643 -0.00113653 -0.00113664 -0.00113676 -0.00113691\n",
            " -0.00113707 -0.00113725 -0.00113744 -0.00113767 -0.00113792 -0.00113818\n",
            " -0.00113848 -0.00113881 -0.00113917 -0.00113956 -0.00114    -0.00114048\n",
            " -0.00114101 -0.00114162 -0.00114231 -0.0011431  -0.00114405 -0.00114405\n",
            " -0.00114405 -0.00114405 -0.00114405 -0.00114405 -0.00114405 -0.00114405\n",
            " -0.00114405 -0.00114405 -0.00114405 -0.00114405 -0.00114405 -0.00114405\n",
            " -0.00114405 -0.00114405 -0.00114405 -0.00114405 -0.00114405 -0.00114405\n",
            " -0.00114405 -0.00114405 -0.00114405 -0.00114405 -0.00114405 -0.00114405\n",
            " -0.00114405 -0.00114405 -0.00114405 -0.00114405 -0.00114405 -0.00114405\n",
            " -0.00114405 -0.00114405 -0.00114405 -0.00234198]\n",
            "5 day output [[-0.0024399]]\n",
            "6 day input [ 0.7267162   0.71388162  0.74191506  0.75002111  0.77222832  0.83049059\n",
            "  0.8194292   0.8289707   0.8125475   0.78776492  0.75162543  0.78426074\n",
            "  0.77974331  0.81326522  0.8141096   0.79473106  0.83336148  0.85898843\n",
            "  0.83901883  0.85628641  0.87486279  0.88782403  0.90095415  0.92793211\n",
            "  0.948535    0.93333615  0.91746179  0.92544119  0.91771511  0.9483239\n",
            "  0.94064004  0.96635143  0.9563033   0.96491598 -0.00113597 -0.00113601\n",
            " -0.00113604 -0.00113609 -0.00113614 -0.0011362  -0.00113627 -0.00113634\n",
            " -0.00113643 -0.00113653 -0.00113664 -0.00113676 -0.00113691 -0.00113707\n",
            " -0.00113725 -0.00113744 -0.00113767 -0.00113792 -0.00113818 -0.00113848\n",
            " -0.00113881 -0.00113917 -0.00113956 -0.00114    -0.00114048 -0.00114101\n",
            " -0.00114162 -0.00114231 -0.0011431  -0.00114405 -0.00114405 -0.00114405\n",
            " -0.00114405 -0.00114405 -0.00114405 -0.00114405 -0.00114405 -0.00114405\n",
            " -0.00114405 -0.00114405 -0.00114405 -0.00114405 -0.00114405 -0.00114405\n",
            " -0.00114405 -0.00114405 -0.00114405 -0.00114405 -0.00114405 -0.00114405\n",
            " -0.00114405 -0.00114405 -0.00114405 -0.00114405 -0.00114405 -0.00114405\n",
            " -0.00114405 -0.00114405 -0.00114405 -0.00114405 -0.00114405 -0.00114405\n",
            " -0.00114405 -0.00114405 -0.00234198 -0.0024399 ]\n",
            "6 day output [[-0.0026209]]\n",
            "7 day input [ 0.71388162  0.74191506  0.75002111  0.77222832  0.83049059  0.8194292\n",
            "  0.8289707   0.8125475   0.78776492  0.75162543  0.78426074  0.77974331\n",
            "  0.81326522  0.8141096   0.79473106  0.83336148  0.85898843  0.83901883\n",
            "  0.85628641  0.87486279  0.88782403  0.90095415  0.92793211  0.948535\n",
            "  0.93333615  0.91746179  0.92544119  0.91771511  0.9483239   0.94064004\n",
            "  0.96635143  0.9563033   0.96491598 -0.00113597 -0.00113601 -0.00113604\n",
            " -0.00113609 -0.00113614 -0.0011362  -0.00113627 -0.00113634 -0.00113643\n",
            " -0.00113653 -0.00113664 -0.00113676 -0.00113691 -0.00113707 -0.00113725\n",
            " -0.00113744 -0.00113767 -0.00113792 -0.00113818 -0.00113848 -0.00113881\n",
            " -0.00113917 -0.00113956 -0.00114    -0.00114048 -0.00114101 -0.00114162\n",
            " -0.00114231 -0.0011431  -0.00114405 -0.00114405 -0.00114405 -0.00114405\n",
            " -0.00114405 -0.00114405 -0.00114405 -0.00114405 -0.00114405 -0.00114405\n",
            " -0.00114405 -0.00114405 -0.00114405 -0.00114405 -0.00114405 -0.00114405\n",
            " -0.00114405 -0.00114405 -0.00114405 -0.00114405 -0.00114405 -0.00114405\n",
            " -0.00114405 -0.00114405 -0.00114405 -0.00114405 -0.00114405 -0.00114405\n",
            " -0.00114405 -0.00114405 -0.00114405 -0.00114405 -0.00114405 -0.00114405\n",
            " -0.00114405 -0.00234198 -0.0024399  -0.0026209 ]\n",
            "7 day output [[-0.00286574]]\n",
            "8 day input [ 0.74191506  0.75002111  0.77222832  0.83049059  0.8194292   0.8289707\n",
            "  0.8125475   0.78776492  0.75162543  0.78426074  0.77974331  0.81326522\n",
            "  0.8141096   0.79473106  0.83336148  0.85898843  0.83901883  0.85628641\n",
            "  0.87486279  0.88782403  0.90095415  0.92793211  0.948535    0.93333615\n",
            "  0.91746179  0.92544119  0.91771511  0.9483239   0.94064004  0.96635143\n",
            "  0.9563033   0.96491598 -0.00113597 -0.00113601 -0.00113604 -0.00113609\n",
            " -0.00113614 -0.0011362  -0.00113627 -0.00113634 -0.00113643 -0.00113653\n",
            " -0.00113664 -0.00113676 -0.00113691 -0.00113707 -0.00113725 -0.00113744\n",
            " -0.00113767 -0.00113792 -0.00113818 -0.00113848 -0.00113881 -0.00113917\n",
            " -0.00113956 -0.00114    -0.00114048 -0.00114101 -0.00114162 -0.00114231\n",
            " -0.0011431  -0.00114405 -0.00114405 -0.00114405 -0.00114405 -0.00114405\n",
            " -0.00114405 -0.00114405 -0.00114405 -0.00114405 -0.00114405 -0.00114405\n",
            " -0.00114405 -0.00114405 -0.00114405 -0.00114405 -0.00114405 -0.00114405\n",
            " -0.00114405 -0.00114405 -0.00114405 -0.00114405 -0.00114405 -0.00114405\n",
            " -0.00114405 -0.00114405 -0.00114405 -0.00114405 -0.00114405 -0.00114405\n",
            " -0.00114405 -0.00114405 -0.00114405 -0.00114405 -0.00114405 -0.00114405\n",
            " -0.00234198 -0.0024399  -0.0026209  -0.00286574]\n",
            "8 day output [[-0.00315112]]\n",
            "9 day input [ 0.75002111  0.77222832  0.83049059  0.8194292   0.8289707   0.8125475\n",
            "  0.78776492  0.75162543  0.78426074  0.77974331  0.81326522  0.8141096\n",
            "  0.79473106  0.83336148  0.85898843  0.83901883  0.85628641  0.87486279\n",
            "  0.88782403  0.90095415  0.92793211  0.948535    0.93333615  0.91746179\n",
            "  0.92544119  0.91771511  0.9483239   0.94064004  0.96635143  0.9563033\n",
            "  0.96491598 -0.00113597 -0.00113601 -0.00113604 -0.00113609 -0.00113614\n",
            " -0.0011362  -0.00113627 -0.00113634 -0.00113643 -0.00113653 -0.00113664\n",
            " -0.00113676 -0.00113691 -0.00113707 -0.00113725 -0.00113744 -0.00113767\n",
            " -0.00113792 -0.00113818 -0.00113848 -0.00113881 -0.00113917 -0.00113956\n",
            " -0.00114    -0.00114048 -0.00114101 -0.00114162 -0.00114231 -0.0011431\n",
            " -0.00114405 -0.00114405 -0.00114405 -0.00114405 -0.00114405 -0.00114405\n",
            " -0.00114405 -0.00114405 -0.00114405 -0.00114405 -0.00114405 -0.00114405\n",
            " -0.00114405 -0.00114405 -0.00114405 -0.00114405 -0.00114405 -0.00114405\n",
            " -0.00114405 -0.00114405 -0.00114405 -0.00114405 -0.00114405 -0.00114405\n",
            " -0.00114405 -0.00114405 -0.00114405 -0.00114405 -0.00114405 -0.00114405\n",
            " -0.00114405 -0.00114405 -0.00114405 -0.00114405 -0.00114405 -0.00234198\n",
            " -0.0024399  -0.0026209  -0.00286574 -0.00315112]\n",
            "9 day output [[-0.00345866]]\n",
            "10 day input [ 0.77222832  0.83049059  0.8194292   0.8289707   0.8125475   0.78776492\n",
            "  0.75162543  0.78426074  0.77974331  0.81326522  0.8141096   0.79473106\n",
            "  0.83336148  0.85898843  0.83901883  0.85628641  0.87486279  0.88782403\n",
            "  0.90095415  0.92793211  0.948535    0.93333615  0.91746179  0.92544119\n",
            "  0.91771511  0.9483239   0.94064004  0.96635143  0.9563033   0.96491598\n",
            " -0.00113597 -0.00113601 -0.00113604 -0.00113609 -0.00113614 -0.0011362\n",
            " -0.00113627 -0.00113634 -0.00113643 -0.00113653 -0.00113664 -0.00113676\n",
            " -0.00113691 -0.00113707 -0.00113725 -0.00113744 -0.00113767 -0.00113792\n",
            " -0.00113818 -0.00113848 -0.00113881 -0.00113917 -0.00113956 -0.00114\n",
            " -0.00114048 -0.00114101 -0.00114162 -0.00114231 -0.0011431  -0.00114405\n",
            " -0.00114405 -0.00114405 -0.00114405 -0.00114405 -0.00114405 -0.00114405\n",
            " -0.00114405 -0.00114405 -0.00114405 -0.00114405 -0.00114405 -0.00114405\n",
            " -0.00114405 -0.00114405 -0.00114405 -0.00114405 -0.00114405 -0.00114405\n",
            " -0.00114405 -0.00114405 -0.00114405 -0.00114405 -0.00114405 -0.00114405\n",
            " -0.00114405 -0.00114405 -0.00114405 -0.00114405 -0.00114405 -0.00114405\n",
            " -0.00114405 -0.00114405 -0.00114405 -0.00114405 -0.00234198 -0.0024399\n",
            " -0.0026209  -0.00286574 -0.00315112 -0.00345866]\n",
            "10 day output [[-0.00377645]]\n",
            "11 day input [ 0.83049059  0.8194292   0.8289707   0.8125475   0.78776492  0.75162543\n",
            "  0.78426074  0.77974331  0.81326522  0.8141096   0.79473106  0.83336148\n",
            "  0.85898843  0.83901883  0.85628641  0.87486279  0.88782403  0.90095415\n",
            "  0.92793211  0.948535    0.93333615  0.91746179  0.92544119  0.91771511\n",
            "  0.9483239   0.94064004  0.96635143  0.9563033   0.96491598 -0.00113597\n",
            " -0.00113601 -0.00113604 -0.00113609 -0.00113614 -0.0011362  -0.00113627\n",
            " -0.00113634 -0.00113643 -0.00113653 -0.00113664 -0.00113676 -0.00113691\n",
            " -0.00113707 -0.00113725 -0.00113744 -0.00113767 -0.00113792 -0.00113818\n",
            " -0.00113848 -0.00113881 -0.00113917 -0.00113956 -0.00114    -0.00114048\n",
            " -0.00114101 -0.00114162 -0.00114231 -0.0011431  -0.00114405 -0.00114405\n",
            " -0.00114405 -0.00114405 -0.00114405 -0.00114405 -0.00114405 -0.00114405\n",
            " -0.00114405 -0.00114405 -0.00114405 -0.00114405 -0.00114405 -0.00114405\n",
            " -0.00114405 -0.00114405 -0.00114405 -0.00114405 -0.00114405 -0.00114405\n",
            " -0.00114405 -0.00114405 -0.00114405 -0.00114405 -0.00114405 -0.00114405\n",
            " -0.00114405 -0.00114405 -0.00114405 -0.00114405 -0.00114405 -0.00114405\n",
            " -0.00114405 -0.00114405 -0.00114405 -0.00234198 -0.0024399  -0.0026209\n",
            " -0.00286574 -0.00315112 -0.00345866 -0.00377645]\n",
            "11 day output [[-0.00409781]]\n",
            "12 day input [ 0.8194292   0.8289707   0.8125475   0.78776492  0.75162543  0.78426074\n",
            "  0.77974331  0.81326522  0.8141096   0.79473106  0.83336148  0.85898843\n",
            "  0.83901883  0.85628641  0.87486279  0.88782403  0.90095415  0.92793211\n",
            "  0.948535    0.93333615  0.91746179  0.92544119  0.91771511  0.9483239\n",
            "  0.94064004  0.96635143  0.9563033   0.96491598 -0.00113597 -0.00113601\n",
            " -0.00113604 -0.00113609 -0.00113614 -0.0011362  -0.00113627 -0.00113634\n",
            " -0.00113643 -0.00113653 -0.00113664 -0.00113676 -0.00113691 -0.00113707\n",
            " -0.00113725 -0.00113744 -0.00113767 -0.00113792 -0.00113818 -0.00113848\n",
            " -0.00113881 -0.00113917 -0.00113956 -0.00114    -0.00114048 -0.00114101\n",
            " -0.00114162 -0.00114231 -0.0011431  -0.00114405 -0.00114405 -0.00114405\n",
            " -0.00114405 -0.00114405 -0.00114405 -0.00114405 -0.00114405 -0.00114405\n",
            " -0.00114405 -0.00114405 -0.00114405 -0.00114405 -0.00114405 -0.00114405\n",
            " -0.00114405 -0.00114405 -0.00114405 -0.00114405 -0.00114405 -0.00114405\n",
            " -0.00114405 -0.00114405 -0.00114405 -0.00114405 -0.00114405 -0.00114405\n",
            " -0.00114405 -0.00114405 -0.00114405 -0.00114405 -0.00114405 -0.00114405\n",
            " -0.00114405 -0.00114405 -0.00234198 -0.0024399  -0.0026209  -0.00286574\n",
            " -0.00315112 -0.00345866 -0.00377645 -0.00409781]\n",
            "12 day output [[-0.00441947]]\n",
            "13 day input [ 0.8289707   0.8125475   0.78776492  0.75162543  0.78426074  0.77974331\n",
            "  0.81326522  0.8141096   0.79473106  0.83336148  0.85898843  0.83901883\n",
            "  0.85628641  0.87486279  0.88782403  0.90095415  0.92793211  0.948535\n",
            "  0.93333615  0.91746179  0.92544119  0.91771511  0.9483239   0.94064004\n",
            "  0.96635143  0.9563033   0.96491598 -0.00113597 -0.00113601 -0.00113604\n",
            " -0.00113609 -0.00113614 -0.0011362  -0.00113627 -0.00113634 -0.00113643\n",
            " -0.00113653 -0.00113664 -0.00113676 -0.00113691 -0.00113707 -0.00113725\n",
            " -0.00113744 -0.00113767 -0.00113792 -0.00113818 -0.00113848 -0.00113881\n",
            " -0.00113917 -0.00113956 -0.00114    -0.00114048 -0.00114101 -0.00114162\n",
            " -0.00114231 -0.0011431  -0.00114405 -0.00114405 -0.00114405 -0.00114405\n",
            " -0.00114405 -0.00114405 -0.00114405 -0.00114405 -0.00114405 -0.00114405\n",
            " -0.00114405 -0.00114405 -0.00114405 -0.00114405 -0.00114405 -0.00114405\n",
            " -0.00114405 -0.00114405 -0.00114405 -0.00114405 -0.00114405 -0.00114405\n",
            " -0.00114405 -0.00114405 -0.00114405 -0.00114405 -0.00114405 -0.00114405\n",
            " -0.00114405 -0.00114405 -0.00114405 -0.00114405 -0.00114405 -0.00114405\n",
            " -0.00114405 -0.00234198 -0.0024399  -0.0026209  -0.00286574 -0.00315112\n",
            " -0.00345866 -0.00377645 -0.00409781 -0.00441947]\n",
            "13 day output [[-0.00473996]]\n",
            "14 day input [ 0.8125475   0.78776492  0.75162543  0.78426074  0.77974331  0.81326522\n",
            "  0.8141096   0.79473106  0.83336148  0.85898843  0.83901883  0.85628641\n",
            "  0.87486279  0.88782403  0.90095415  0.92793211  0.948535    0.93333615\n",
            "  0.91746179  0.92544119  0.91771511  0.9483239   0.94064004  0.96635143\n",
            "  0.9563033   0.96491598 -0.00113597 -0.00113601 -0.00113604 -0.00113609\n",
            " -0.00113614 -0.0011362  -0.00113627 -0.00113634 -0.00113643 -0.00113653\n",
            " -0.00113664 -0.00113676 -0.00113691 -0.00113707 -0.00113725 -0.00113744\n",
            " -0.00113767 -0.00113792 -0.00113818 -0.00113848 -0.00113881 -0.00113917\n",
            " -0.00113956 -0.00114    -0.00114048 -0.00114101 -0.00114162 -0.00114231\n",
            " -0.0011431  -0.00114405 -0.00114405 -0.00114405 -0.00114405 -0.00114405\n",
            " -0.00114405 -0.00114405 -0.00114405 -0.00114405 -0.00114405 -0.00114405\n",
            " -0.00114405 -0.00114405 -0.00114405 -0.00114405 -0.00114405 -0.00114405\n",
            " -0.00114405 -0.00114405 -0.00114405 -0.00114405 -0.00114405 -0.00114405\n",
            " -0.00114405 -0.00114405 -0.00114405 -0.00114405 -0.00114405 -0.00114405\n",
            " -0.00114405 -0.00114405 -0.00114405 -0.00114405 -0.00114405 -0.00114405\n",
            " -0.00234198 -0.0024399  -0.0026209  -0.00286574 -0.00315112 -0.00345866\n",
            " -0.00377645 -0.00409781 -0.00441947 -0.00473996]\n",
            "14 day output [[-0.00505877]]\n",
            "15 day input [ 0.78776492  0.75162543  0.78426074  0.77974331  0.81326522  0.8141096\n",
            "  0.79473106  0.83336148  0.85898843  0.83901883  0.85628641  0.87486279\n",
            "  0.88782403  0.90095415  0.92793211  0.948535    0.93333615  0.91746179\n",
            "  0.92544119  0.91771511  0.9483239   0.94064004  0.96635143  0.9563033\n",
            "  0.96491598 -0.00113597 -0.00113601 -0.00113604 -0.00113609 -0.00113614\n",
            " -0.0011362  -0.00113627 -0.00113634 -0.00113643 -0.00113653 -0.00113664\n",
            " -0.00113676 -0.00113691 -0.00113707 -0.00113725 -0.00113744 -0.00113767\n",
            " -0.00113792 -0.00113818 -0.00113848 -0.00113881 -0.00113917 -0.00113956\n",
            " -0.00114    -0.00114048 -0.00114101 -0.00114162 -0.00114231 -0.0011431\n",
            " -0.00114405 -0.00114405 -0.00114405 -0.00114405 -0.00114405 -0.00114405\n",
            " -0.00114405 -0.00114405 -0.00114405 -0.00114405 -0.00114405 -0.00114405\n",
            " -0.00114405 -0.00114405 -0.00114405 -0.00114405 -0.00114405 -0.00114405\n",
            " -0.00114405 -0.00114405 -0.00114405 -0.00114405 -0.00114405 -0.00114405\n",
            " -0.00114405 -0.00114405 -0.00114405 -0.00114405 -0.00114405 -0.00114405\n",
            " -0.00114405 -0.00114405 -0.00114405 -0.00114405 -0.00114405 -0.00234198\n",
            " -0.0024399  -0.0026209  -0.00286574 -0.00315112 -0.00345866 -0.00377645\n",
            " -0.00409781 -0.00441947 -0.00473996 -0.00505877]\n",
            "15 day output [[-0.00537575]]\n",
            "16 day input [ 0.75162543  0.78426074  0.77974331  0.81326522  0.8141096   0.79473106\n",
            "  0.83336148  0.85898843  0.83901883  0.85628641  0.87486279  0.88782403\n",
            "  0.90095415  0.92793211  0.948535    0.93333615  0.91746179  0.92544119\n",
            "  0.91771511  0.9483239   0.94064004  0.96635143  0.9563033   0.96491598\n",
            " -0.00113597 -0.00113601 -0.00113604 -0.00113609 -0.00113614 -0.0011362\n",
            " -0.00113627 -0.00113634 -0.00113643 -0.00113653 -0.00113664 -0.00113676\n",
            " -0.00113691 -0.00113707 -0.00113725 -0.00113744 -0.00113767 -0.00113792\n",
            " -0.00113818 -0.00113848 -0.00113881 -0.00113917 -0.00113956 -0.00114\n",
            " -0.00114048 -0.00114101 -0.00114162 -0.00114231 -0.0011431  -0.00114405\n",
            " -0.00114405 -0.00114405 -0.00114405 -0.00114405 -0.00114405 -0.00114405\n",
            " -0.00114405 -0.00114405 -0.00114405 -0.00114405 -0.00114405 -0.00114405\n",
            " -0.00114405 -0.00114405 -0.00114405 -0.00114405 -0.00114405 -0.00114405\n",
            " -0.00114405 -0.00114405 -0.00114405 -0.00114405 -0.00114405 -0.00114405\n",
            " -0.00114405 -0.00114405 -0.00114405 -0.00114405 -0.00114405 -0.00114405\n",
            " -0.00114405 -0.00114405 -0.00114405 -0.00114405 -0.00234198 -0.0024399\n",
            " -0.0026209  -0.00286574 -0.00315112 -0.00345866 -0.00377645 -0.00409781\n",
            " -0.00441947 -0.00473996 -0.00505877 -0.00537575]\n",
            "16 day output [[-0.00569091]]\n",
            "17 day input [ 0.78426074  0.77974331  0.81326522  0.8141096   0.79473106  0.83336148\n",
            "  0.85898843  0.83901883  0.85628641  0.87486279  0.88782403  0.90095415\n",
            "  0.92793211  0.948535    0.93333615  0.91746179  0.92544119  0.91771511\n",
            "  0.9483239   0.94064004  0.96635143  0.9563033   0.96491598 -0.00113597\n",
            " -0.00113601 -0.00113604 -0.00113609 -0.00113614 -0.0011362  -0.00113627\n",
            " -0.00113634 -0.00113643 -0.00113653 -0.00113664 -0.00113676 -0.00113691\n",
            " -0.00113707 -0.00113725 -0.00113744 -0.00113767 -0.00113792 -0.00113818\n",
            " -0.00113848 -0.00113881 -0.00113917 -0.00113956 -0.00114    -0.00114048\n",
            " -0.00114101 -0.00114162 -0.00114231 -0.0011431  -0.00114405 -0.00114405\n",
            " -0.00114405 -0.00114405 -0.00114405 -0.00114405 -0.00114405 -0.00114405\n",
            " -0.00114405 -0.00114405 -0.00114405 -0.00114405 -0.00114405 -0.00114405\n",
            " -0.00114405 -0.00114405 -0.00114405 -0.00114405 -0.00114405 -0.00114405\n",
            " -0.00114405 -0.00114405 -0.00114405 -0.00114405 -0.00114405 -0.00114405\n",
            " -0.00114405 -0.00114405 -0.00114405 -0.00114405 -0.00114405 -0.00114405\n",
            " -0.00114405 -0.00114405 -0.00114405 -0.00234198 -0.0024399  -0.0026209\n",
            " -0.00286574 -0.00315112 -0.00345866 -0.00377645 -0.00409781 -0.00441947\n",
            " -0.00473996 -0.00505877 -0.00537575 -0.00569091]\n",
            "17 day output [[-0.00600432]]\n",
            "18 day input [ 0.77974331  0.81326522  0.8141096   0.79473106  0.83336148  0.85898843\n",
            "  0.83901883  0.85628641  0.87486279  0.88782403  0.90095415  0.92793211\n",
            "  0.948535    0.93333615  0.91746179  0.92544119  0.91771511  0.9483239\n",
            "  0.94064004  0.96635143  0.9563033   0.96491598 -0.00113597 -0.00113601\n",
            " -0.00113604 -0.00113609 -0.00113614 -0.0011362  -0.00113627 -0.00113634\n",
            " -0.00113643 -0.00113653 -0.00113664 -0.00113676 -0.00113691 -0.00113707\n",
            " -0.00113725 -0.00113744 -0.00113767 -0.00113792 -0.00113818 -0.00113848\n",
            " -0.00113881 -0.00113917 -0.00113956 -0.00114    -0.00114048 -0.00114101\n",
            " -0.00114162 -0.00114231 -0.0011431  -0.00114405 -0.00114405 -0.00114405\n",
            " -0.00114405 -0.00114405 -0.00114405 -0.00114405 -0.00114405 -0.00114405\n",
            " -0.00114405 -0.00114405 -0.00114405 -0.00114405 -0.00114405 -0.00114405\n",
            " -0.00114405 -0.00114405 -0.00114405 -0.00114405 -0.00114405 -0.00114405\n",
            " -0.00114405 -0.00114405 -0.00114405 -0.00114405 -0.00114405 -0.00114405\n",
            " -0.00114405 -0.00114405 -0.00114405 -0.00114405 -0.00114405 -0.00114405\n",
            " -0.00114405 -0.00114405 -0.00234198 -0.0024399  -0.0026209  -0.00286574\n",
            " -0.00315112 -0.00345866 -0.00377645 -0.00409781 -0.00441947 -0.00473996\n",
            " -0.00505877 -0.00537575 -0.00569091 -0.00600432]\n",
            "18 day output [[-0.00631612]]\n",
            "19 day input [ 0.81326522  0.8141096   0.79473106  0.83336148  0.85898843  0.83901883\n",
            "  0.85628641  0.87486279  0.88782403  0.90095415  0.92793211  0.948535\n",
            "  0.93333615  0.91746179  0.92544119  0.91771511  0.9483239   0.94064004\n",
            "  0.96635143  0.9563033   0.96491598 -0.00113597 -0.00113601 -0.00113604\n",
            " -0.00113609 -0.00113614 -0.0011362  -0.00113627 -0.00113634 -0.00113643\n",
            " -0.00113653 -0.00113664 -0.00113676 -0.00113691 -0.00113707 -0.00113725\n",
            " -0.00113744 -0.00113767 -0.00113792 -0.00113818 -0.00113848 -0.00113881\n",
            " -0.00113917 -0.00113956 -0.00114    -0.00114048 -0.00114101 -0.00114162\n",
            " -0.00114231 -0.0011431  -0.00114405 -0.00114405 -0.00114405 -0.00114405\n",
            " -0.00114405 -0.00114405 -0.00114405 -0.00114405 -0.00114405 -0.00114405\n",
            " -0.00114405 -0.00114405 -0.00114405 -0.00114405 -0.00114405 -0.00114405\n",
            " -0.00114405 -0.00114405 -0.00114405 -0.00114405 -0.00114405 -0.00114405\n",
            " -0.00114405 -0.00114405 -0.00114405 -0.00114405 -0.00114405 -0.00114405\n",
            " -0.00114405 -0.00114405 -0.00114405 -0.00114405 -0.00114405 -0.00114405\n",
            " -0.00114405 -0.00234198 -0.0024399  -0.0026209  -0.00286574 -0.00315112\n",
            " -0.00345866 -0.00377645 -0.00409781 -0.00441947 -0.00473996 -0.00505877\n",
            " -0.00537575 -0.00569091 -0.00600432 -0.00631612]\n",
            "19 day output [[-0.00662648]]\n",
            "20 day input [ 0.8141096   0.79473106  0.83336148  0.85898843  0.83901883  0.85628641\n",
            "  0.87486279  0.88782403  0.90095415  0.92793211  0.948535    0.93333615\n",
            "  0.91746179  0.92544119  0.91771511  0.9483239   0.94064004  0.96635143\n",
            "  0.9563033   0.96491598 -0.00113597 -0.00113601 -0.00113604 -0.00113609\n",
            " -0.00113614 -0.0011362  -0.00113627 -0.00113634 -0.00113643 -0.00113653\n",
            " -0.00113664 -0.00113676 -0.00113691 -0.00113707 -0.00113725 -0.00113744\n",
            " -0.00113767 -0.00113792 -0.00113818 -0.00113848 -0.00113881 -0.00113917\n",
            " -0.00113956 -0.00114    -0.00114048 -0.00114101 -0.00114162 -0.00114231\n",
            " -0.0011431  -0.00114405 -0.00114405 -0.00114405 -0.00114405 -0.00114405\n",
            " -0.00114405 -0.00114405 -0.00114405 -0.00114405 -0.00114405 -0.00114405\n",
            " -0.00114405 -0.00114405 -0.00114405 -0.00114405 -0.00114405 -0.00114405\n",
            " -0.00114405 -0.00114405 -0.00114405 -0.00114405 -0.00114405 -0.00114405\n",
            " -0.00114405 -0.00114405 -0.00114405 -0.00114405 -0.00114405 -0.00114405\n",
            " -0.00114405 -0.00114405 -0.00114405 -0.00114405 -0.00114405 -0.00114405\n",
            " -0.00234198 -0.0024399  -0.0026209  -0.00286574 -0.00315112 -0.00345866\n",
            " -0.00377645 -0.00409781 -0.00441947 -0.00473996 -0.00505877 -0.00537575\n",
            " -0.00569091 -0.00600432 -0.00631612 -0.00662648]\n",
            "20 day output [[-0.00693561]]\n",
            "21 day input [ 0.79473106  0.83336148  0.85898843  0.83901883  0.85628641  0.87486279\n",
            "  0.88782403  0.90095415  0.92793211  0.948535    0.93333615  0.91746179\n",
            "  0.92544119  0.91771511  0.9483239   0.94064004  0.96635143  0.9563033\n",
            "  0.96491598 -0.00113597 -0.00113601 -0.00113604 -0.00113609 -0.00113614\n",
            " -0.0011362  -0.00113627 -0.00113634 -0.00113643 -0.00113653 -0.00113664\n",
            " -0.00113676 -0.00113691 -0.00113707 -0.00113725 -0.00113744 -0.00113767\n",
            " -0.00113792 -0.00113818 -0.00113848 -0.00113881 -0.00113917 -0.00113956\n",
            " -0.00114    -0.00114048 -0.00114101 -0.00114162 -0.00114231 -0.0011431\n",
            " -0.00114405 -0.00114405 -0.00114405 -0.00114405 -0.00114405 -0.00114405\n",
            " -0.00114405 -0.00114405 -0.00114405 -0.00114405 -0.00114405 -0.00114405\n",
            " -0.00114405 -0.00114405 -0.00114405 -0.00114405 -0.00114405 -0.00114405\n",
            " -0.00114405 -0.00114405 -0.00114405 -0.00114405 -0.00114405 -0.00114405\n",
            " -0.00114405 -0.00114405 -0.00114405 -0.00114405 -0.00114405 -0.00114405\n",
            " -0.00114405 -0.00114405 -0.00114405 -0.00114405 -0.00114405 -0.00234198\n",
            " -0.0024399  -0.0026209  -0.00286574 -0.00315112 -0.00345866 -0.00377645\n",
            " -0.00409781 -0.00441947 -0.00473996 -0.00505877 -0.00537575 -0.00569091\n",
            " -0.00600432 -0.00631612 -0.00662648 -0.00693561]\n",
            "21 day output [[-0.00724379]]\n",
            "22 day input [ 0.83336148  0.85898843  0.83901883  0.85628641  0.87486279  0.88782403\n",
            "  0.90095415  0.92793211  0.948535    0.93333615  0.91746179  0.92544119\n",
            "  0.91771511  0.9483239   0.94064004  0.96635143  0.9563033   0.96491598\n",
            " -0.00113597 -0.00113601 -0.00113604 -0.00113609 -0.00113614 -0.0011362\n",
            " -0.00113627 -0.00113634 -0.00113643 -0.00113653 -0.00113664 -0.00113676\n",
            " -0.00113691 -0.00113707 -0.00113725 -0.00113744 -0.00113767 -0.00113792\n",
            " -0.00113818 -0.00113848 -0.00113881 -0.00113917 -0.00113956 -0.00114\n",
            " -0.00114048 -0.00114101 -0.00114162 -0.00114231 -0.0011431  -0.00114405\n",
            " -0.00114405 -0.00114405 -0.00114405 -0.00114405 -0.00114405 -0.00114405\n",
            " -0.00114405 -0.00114405 -0.00114405 -0.00114405 -0.00114405 -0.00114405\n",
            " -0.00114405 -0.00114405 -0.00114405 -0.00114405 -0.00114405 -0.00114405\n",
            " -0.00114405 -0.00114405 -0.00114405 -0.00114405 -0.00114405 -0.00114405\n",
            " -0.00114405 -0.00114405 -0.00114405 -0.00114405 -0.00114405 -0.00114405\n",
            " -0.00114405 -0.00114405 -0.00114405 -0.00114405 -0.00234198 -0.0024399\n",
            " -0.0026209  -0.00286574 -0.00315112 -0.00345866 -0.00377645 -0.00409781\n",
            " -0.00441947 -0.00473996 -0.00505877 -0.00537575 -0.00569091 -0.00600432\n",
            " -0.00631612 -0.00662648 -0.00693561 -0.00724379]\n",
            "22 day output [[-0.0075513]]\n",
            "23 day input [ 0.85898843  0.83901883  0.85628641  0.87486279  0.88782403  0.90095415\n",
            "  0.92793211  0.948535    0.93333615  0.91746179  0.92544119  0.91771511\n",
            "  0.9483239   0.94064004  0.96635143  0.9563033   0.96491598 -0.00113597\n",
            " -0.00113601 -0.00113604 -0.00113609 -0.00113614 -0.0011362  -0.00113627\n",
            " -0.00113634 -0.00113643 -0.00113653 -0.00113664 -0.00113676 -0.00113691\n",
            " -0.00113707 -0.00113725 -0.00113744 -0.00113767 -0.00113792 -0.00113818\n",
            " -0.00113848 -0.00113881 -0.00113917 -0.00113956 -0.00114    -0.00114048\n",
            " -0.00114101 -0.00114162 -0.00114231 -0.0011431  -0.00114405 -0.00114405\n",
            " -0.00114405 -0.00114405 -0.00114405 -0.00114405 -0.00114405 -0.00114405\n",
            " -0.00114405 -0.00114405 -0.00114405 -0.00114405 -0.00114405 -0.00114405\n",
            " -0.00114405 -0.00114405 -0.00114405 -0.00114405 -0.00114405 -0.00114405\n",
            " -0.00114405 -0.00114405 -0.00114405 -0.00114405 -0.00114405 -0.00114405\n",
            " -0.00114405 -0.00114405 -0.00114405 -0.00114405 -0.00114405 -0.00114405\n",
            " -0.00114405 -0.00114405 -0.00114405 -0.00234198 -0.0024399  -0.0026209\n",
            " -0.00286574 -0.00315112 -0.00345866 -0.00377645 -0.00409781 -0.00441947\n",
            " -0.00473996 -0.00505877 -0.00537575 -0.00569091 -0.00600432 -0.00631612\n",
            " -0.00662648 -0.00693561 -0.00724379 -0.0075513 ]\n",
            "23 day output [[-0.00785844]]\n",
            "24 day input [ 0.83901883  0.85628641  0.87486279  0.88782403  0.90095415  0.92793211\n",
            "  0.948535    0.93333615  0.91746179  0.92544119  0.91771511  0.9483239\n",
            "  0.94064004  0.96635143  0.9563033   0.96491598 -0.00113597 -0.00113601\n",
            " -0.00113604 -0.00113609 -0.00113614 -0.0011362  -0.00113627 -0.00113634\n",
            " -0.00113643 -0.00113653 -0.00113664 -0.00113676 -0.00113691 -0.00113707\n",
            " -0.00113725 -0.00113744 -0.00113767 -0.00113792 -0.00113818 -0.00113848\n",
            " -0.00113881 -0.00113917 -0.00113956 -0.00114    -0.00114048 -0.00114101\n",
            " -0.00114162 -0.00114231 -0.0011431  -0.00114405 -0.00114405 -0.00114405\n",
            " -0.00114405 -0.00114405 -0.00114405 -0.00114405 -0.00114405 -0.00114405\n",
            " -0.00114405 -0.00114405 -0.00114405 -0.00114405 -0.00114405 -0.00114405\n",
            " -0.00114405 -0.00114405 -0.00114405 -0.00114405 -0.00114405 -0.00114405\n",
            " -0.00114405 -0.00114405 -0.00114405 -0.00114405 -0.00114405 -0.00114405\n",
            " -0.00114405 -0.00114405 -0.00114405 -0.00114405 -0.00114405 -0.00114405\n",
            " -0.00114405 -0.00114405 -0.00234198 -0.0024399  -0.0026209  -0.00286574\n",
            " -0.00315112 -0.00345866 -0.00377645 -0.00409781 -0.00441947 -0.00473996\n",
            " -0.00505877 -0.00537575 -0.00569091 -0.00600432 -0.00631612 -0.00662648\n",
            " -0.00693561 -0.00724379 -0.0075513  -0.00785844]\n",
            "24 day output [[-0.00816553]]\n",
            "25 day input [ 0.85628641  0.87486279  0.88782403  0.90095415  0.92793211  0.948535\n",
            "  0.93333615  0.91746179  0.92544119  0.91771511  0.9483239   0.94064004\n",
            "  0.96635143  0.9563033   0.96491598 -0.00113597 -0.00113601 -0.00113604\n",
            " -0.00113609 -0.00113614 -0.0011362  -0.00113627 -0.00113634 -0.00113643\n",
            " -0.00113653 -0.00113664 -0.00113676 -0.00113691 -0.00113707 -0.00113725\n",
            " -0.00113744 -0.00113767 -0.00113792 -0.00113818 -0.00113848 -0.00113881\n",
            " -0.00113917 -0.00113956 -0.00114    -0.00114048 -0.00114101 -0.00114162\n",
            " -0.00114231 -0.0011431  -0.00114405 -0.00114405 -0.00114405 -0.00114405\n",
            " -0.00114405 -0.00114405 -0.00114405 -0.00114405 -0.00114405 -0.00114405\n",
            " -0.00114405 -0.00114405 -0.00114405 -0.00114405 -0.00114405 -0.00114405\n",
            " -0.00114405 -0.00114405 -0.00114405 -0.00114405 -0.00114405 -0.00114405\n",
            " -0.00114405 -0.00114405 -0.00114405 -0.00114405 -0.00114405 -0.00114405\n",
            " -0.00114405 -0.00114405 -0.00114405 -0.00114405 -0.00114405 -0.00114405\n",
            " -0.00114405 -0.00234198 -0.0024399  -0.0026209  -0.00286574 -0.00315112\n",
            " -0.00345866 -0.00377645 -0.00409781 -0.00441947 -0.00473996 -0.00505877\n",
            " -0.00537575 -0.00569091 -0.00600432 -0.00631612 -0.00662648 -0.00693561\n",
            " -0.00724379 -0.0075513  -0.00785844 -0.00816553]\n",
            "25 day output [[-0.00847285]]\n",
            "26 day input [ 0.87486279  0.88782403  0.90095415  0.92793211  0.948535    0.93333615\n",
            "  0.91746179  0.92544119  0.91771511  0.9483239   0.94064004  0.96635143\n",
            "  0.9563033   0.96491598 -0.00113597 -0.00113601 -0.00113604 -0.00113609\n",
            " -0.00113614 -0.0011362  -0.00113627 -0.00113634 -0.00113643 -0.00113653\n",
            " -0.00113664 -0.00113676 -0.00113691 -0.00113707 -0.00113725 -0.00113744\n",
            " -0.00113767 -0.00113792 -0.00113818 -0.00113848 -0.00113881 -0.00113917\n",
            " -0.00113956 -0.00114    -0.00114048 -0.00114101 -0.00114162 -0.00114231\n",
            " -0.0011431  -0.00114405 -0.00114405 -0.00114405 -0.00114405 -0.00114405\n",
            " -0.00114405 -0.00114405 -0.00114405 -0.00114405 -0.00114405 -0.00114405\n",
            " -0.00114405 -0.00114405 -0.00114405 -0.00114405 -0.00114405 -0.00114405\n",
            " -0.00114405 -0.00114405 -0.00114405 -0.00114405 -0.00114405 -0.00114405\n",
            " -0.00114405 -0.00114405 -0.00114405 -0.00114405 -0.00114405 -0.00114405\n",
            " -0.00114405 -0.00114405 -0.00114405 -0.00114405 -0.00114405 -0.00114405\n",
            " -0.00234198 -0.0024399  -0.0026209  -0.00286574 -0.00315112 -0.00345866\n",
            " -0.00377645 -0.00409781 -0.00441947 -0.00473996 -0.00505877 -0.00537575\n",
            " -0.00569091 -0.00600432 -0.00631612 -0.00662648 -0.00693561 -0.00724379\n",
            " -0.0075513  -0.00785844 -0.00816553 -0.00847285]\n",
            "26 day output [[-0.00878069]]\n",
            "27 day input [ 0.88782403  0.90095415  0.92793211  0.948535    0.93333615  0.91746179\n",
            "  0.92544119  0.91771511  0.9483239   0.94064004  0.96635143  0.9563033\n",
            "  0.96491598 -0.00113597 -0.00113601 -0.00113604 -0.00113609 -0.00113614\n",
            " -0.0011362  -0.00113627 -0.00113634 -0.00113643 -0.00113653 -0.00113664\n",
            " -0.00113676 -0.00113691 -0.00113707 -0.00113725 -0.00113744 -0.00113767\n",
            " -0.00113792 -0.00113818 -0.00113848 -0.00113881 -0.00113917 -0.00113956\n",
            " -0.00114    -0.00114048 -0.00114101 -0.00114162 -0.00114231 -0.0011431\n",
            " -0.00114405 -0.00114405 -0.00114405 -0.00114405 -0.00114405 -0.00114405\n",
            " -0.00114405 -0.00114405 -0.00114405 -0.00114405 -0.00114405 -0.00114405\n",
            " -0.00114405 -0.00114405 -0.00114405 -0.00114405 -0.00114405 -0.00114405\n",
            " -0.00114405 -0.00114405 -0.00114405 -0.00114405 -0.00114405 -0.00114405\n",
            " -0.00114405 -0.00114405 -0.00114405 -0.00114405 -0.00114405 -0.00114405\n",
            " -0.00114405 -0.00114405 -0.00114405 -0.00114405 -0.00114405 -0.00234198\n",
            " -0.0024399  -0.0026209  -0.00286574 -0.00315112 -0.00345866 -0.00377645\n",
            " -0.00409781 -0.00441947 -0.00473996 -0.00505877 -0.00537575 -0.00569091\n",
            " -0.00600432 -0.00631612 -0.00662648 -0.00693561 -0.00724379 -0.0075513\n",
            " -0.00785844 -0.00816553 -0.00847285 -0.00878069]\n",
            "27 day output [[-0.00908931]]\n",
            "28 day input [ 0.90095415  0.92793211  0.948535    0.93333615  0.91746179  0.92544119\n",
            "  0.91771511  0.9483239   0.94064004  0.96635143  0.9563033   0.96491598\n",
            " -0.00113597 -0.00113601 -0.00113604 -0.00113609 -0.00113614 -0.0011362\n",
            " -0.00113627 -0.00113634 -0.00113643 -0.00113653 -0.00113664 -0.00113676\n",
            " -0.00113691 -0.00113707 -0.00113725 -0.00113744 -0.00113767 -0.00113792\n",
            " -0.00113818 -0.00113848 -0.00113881 -0.00113917 -0.00113956 -0.00114\n",
            " -0.00114048 -0.00114101 -0.00114162 -0.00114231 -0.0011431  -0.00114405\n",
            " -0.00114405 -0.00114405 -0.00114405 -0.00114405 -0.00114405 -0.00114405\n",
            " -0.00114405 -0.00114405 -0.00114405 -0.00114405 -0.00114405 -0.00114405\n",
            " -0.00114405 -0.00114405 -0.00114405 -0.00114405 -0.00114405 -0.00114405\n",
            " -0.00114405 -0.00114405 -0.00114405 -0.00114405 -0.00114405 -0.00114405\n",
            " -0.00114405 -0.00114405 -0.00114405 -0.00114405 -0.00114405 -0.00114405\n",
            " -0.00114405 -0.00114405 -0.00114405 -0.00114405 -0.00234198 -0.0024399\n",
            " -0.0026209  -0.00286574 -0.00315112 -0.00345866 -0.00377645 -0.00409781\n",
            " -0.00441947 -0.00473996 -0.00505877 -0.00537575 -0.00569091 -0.00600432\n",
            " -0.00631612 -0.00662648 -0.00693561 -0.00724379 -0.0075513  -0.00785844\n",
            " -0.00816553 -0.00847285 -0.00878069 -0.00908931]\n",
            "28 day output [[-0.00939895]]\n",
            "29 day input [ 0.92793211  0.948535    0.93333615  0.91746179  0.92544119  0.91771511\n",
            "  0.9483239   0.94064004  0.96635143  0.9563033   0.96491598 -0.00113597\n",
            " -0.00113601 -0.00113604 -0.00113609 -0.00113614 -0.0011362  -0.00113627\n",
            " -0.00113634 -0.00113643 -0.00113653 -0.00113664 -0.00113676 -0.00113691\n",
            " -0.00113707 -0.00113725 -0.00113744 -0.00113767 -0.00113792 -0.00113818\n",
            " -0.00113848 -0.00113881 -0.00113917 -0.00113956 -0.00114    -0.00114048\n",
            " -0.00114101 -0.00114162 -0.00114231 -0.0011431  -0.00114405 -0.00114405\n",
            " -0.00114405 -0.00114405 -0.00114405 -0.00114405 -0.00114405 -0.00114405\n",
            " -0.00114405 -0.00114405 -0.00114405 -0.00114405 -0.00114405 -0.00114405\n",
            " -0.00114405 -0.00114405 -0.00114405 -0.00114405 -0.00114405 -0.00114405\n",
            " -0.00114405 -0.00114405 -0.00114405 -0.00114405 -0.00114405 -0.00114405\n",
            " -0.00114405 -0.00114405 -0.00114405 -0.00114405 -0.00114405 -0.00114405\n",
            " -0.00114405 -0.00114405 -0.00114405 -0.00234198 -0.0024399  -0.0026209\n",
            " -0.00286574 -0.00315112 -0.00345866 -0.00377645 -0.00409781 -0.00441947\n",
            " -0.00473996 -0.00505877 -0.00537575 -0.00569091 -0.00600432 -0.00631612\n",
            " -0.00662648 -0.00693561 -0.00724379 -0.0075513  -0.00785844 -0.00816553\n",
            " -0.00847285 -0.00878069 -0.00908931 -0.00939895]\n",
            "29 day output [[-0.00970982]]\n",
            "[[-0.001144050620496273], [-0.001144050620496273], [-0.001144050620496273], [-0.001144050620496273], [-0.002341977320611477], [-0.00243990495800972], [-0.002620900981128216], [-0.002865738235414028], [-0.003151124343276024], [-0.003458661027252674], [-0.0037764469161629677], [-0.004097812809050083], [-0.004419466480612755], [-0.00473996065557003], [-0.005058768205344677], [-0.005375752225518227], [-0.005690908990800381], [-0.006004319526255131], [-0.006316116079688072], [-0.006626475602388382], [-0.006935612298548222], [-0.007243792526423931], [-0.00755129661411047], [-0.007858441211283207], [-0.008165529929101467], [-0.008472847752273083], [-0.008780688978731632], [-0.00908931065350771], [-0.009398951195180416], [-0.009709819220006466]]\n"
          ]
        }
      ]
    },
    {
      "cell_type": "code",
      "source": [
        "temp_input"
      ],
      "metadata": {
        "colab": {
          "base_uri": "https://localhost:8080/"
        },
        "id": "XpjG59d-oQbx",
        "outputId": "b5d8ef2a-7ab5-4ecc-8a75-0c8b071329e6"
      },
      "execution_count": 56,
      "outputs": [
        {
          "output_type": "execute_result",
          "data": {
            "text/plain": [
              "[0.6356919699400492,\n",
              " 0.6526640209406402,\n",
              " 0.637802921557038,\n",
              " 0.7267162036646122,\n",
              " 0.7138816178333194,\n",
              " 0.7419150553069325,\n",
              " 0.7500211095161702,\n",
              " 0.7722283205268936,\n",
              " 0.8304905851557884,\n",
              " 0.8194291986827664,\n",
              " 0.8289706999915563,\n",
              " 0.8125474964113824,\n",
              " 0.7877649244279323,\n",
              " 0.7516254327450818,\n",
              " 0.7842607447437306,\n",
              " 0.7797433082833742,\n",
              " 0.8132652199611587,\n",
              " 0.8141096006079542,\n",
              " 0.7947310647639958,\n",
              " 0.8333614793548934,\n",
              " 0.8589884319851391,\n",
              " 0.8390188296884238,\n",
              " 0.8562864139153934,\n",
              " 0.8748627881448958,\n",
              " 0.887824031073208,\n",
              " 0.9009541501308793,\n",
              " 0.9279321117959978,\n",
              " 0.9485349995778098,\n",
              " 0.9333361479354896,\n",
              " 0.9174617917757326,\n",
              " 0.925441188887951,\n",
              " 0.9177151059697712,\n",
              " 0.9483239044161109,\n",
              " 0.9406400405302711,\n",
              " 0.9663514312251966,\n",
              " 0.9563033015283293,\n",
              " 0.964915984125644,\n",
              " -0.0011359741911292076,\n",
              " -0.0011360058560967445,\n",
              " -0.0011360440403223038,\n",
              " -0.00113608967512846,\n",
              " -0.00113613810390234,\n",
              " -0.0011362042278051376,\n",
              " -0.0011362694203853607,\n",
              " -0.0011363448575139046,\n",
              " -0.0011364305391907692,\n",
              " -0.0011365283280611038,\n",
              " -0.0011366438120603561,\n",
              " -0.001136763021349907,\n",
              " -0.0011369073763489723,\n",
              " -0.0011370684951543808,\n",
              " -0.0011372482404112816,\n",
              " -0.0011374438181519508,\n",
              " -0.0011376654729247093,\n",
              " -0.0011379159986972809,\n",
              " -0.0011381832882761955,\n",
              " -0.001138482242822647,\n",
              " -0.0011388109996914864,\n",
              " -0.0011391723528504372,\n",
              " -0.0011395635083317757,\n",
              " -0.0011400040239095688,\n",
              " -0.0011404827237129211,\n",
              " -0.0011410079896450043,\n",
              " -0.0011416170746088028,\n",
              " -0.0011423053219914436,\n",
              " -0.0011430997401475906,\n",
              " -0.001144050620496273]"
            ]
          },
          "metadata": {},
          "execution_count": 56
        }
      ]
    },
    {
      "cell_type": "code",
      "source": [
        "day_new=np.arange(1,101)\n",
        "day_pred=np.arange(101,131)"
      ],
      "metadata": {
        "id": "ffPoMpacnW4K"
      },
      "execution_count": 59,
      "outputs": []
    },
    {
      "cell_type": "code",
      "source": [
        "import matplotlib.pyplot as plt\n",
        "\n",
        "plt.plot(day_new,scaler.inverse_transform(df2[1158:]))\n",
        "plt.plot(day_pred,scaler.inverse_transform(lst_output))"
      ],
      "metadata": {
        "colab": {
          "base_uri": "https://localhost:8080/",
          "height": 447
        },
        "id": "04qWD-Xuo9xw",
        "outputId": "5fb38027-6942-4250-f1ba-49236e0f117f"
      },
      "execution_count": 61,
      "outputs": [
        {
          "output_type": "execute_result",
          "data": {
            "text/plain": [
              "[<matplotlib.lines.Line2D at 0x7abd7e819a50>]"
            ]
          },
          "metadata": {},
          "execution_count": 61
        },
        {
          "output_type": "display_data",
          "data": {
            "text/plain": [
              "<Figure size 640x480 with 1 Axes>"
            ],
            "image/png": "[encoded data removed]"
          },
          "metadata": {}
        }
      ]
    },
    {
      "cell_type": "code",
      "source": [],
      "metadata": {
        "id": "sVPmW4WBpJlK"
      },
      "execution_count": null,
      "outputs": []
    }
  ]
}